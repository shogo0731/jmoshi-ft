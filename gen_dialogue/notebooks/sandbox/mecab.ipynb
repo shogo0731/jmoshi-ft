{
 "cells": [
  {
   "cell_type": "code",
   "execution_count": 2,
   "id": "4a02867a-d0c4-41f5-934c-73b783fbdd9e",
   "metadata": {
    "scrolled": true
   },
   "outputs": [
    {
     "name": "stdout",
     "output_type": "stream",
     "text": [
      "Collecting mecab-python3\n",
      "  Downloading mecab_python3-1.0.10-cp312-cp312-manylinux_2_17_x86_64.manylinux2014_x86_64.whl.metadata (6.2 kB)\n",
      "Collecting unidic-lite\n",
      "  Using cached unidic-lite-1.0.8.tar.gz (47.4 MB)\n",
      "  Preparing metadata (setup.py) ... \u001b[?25ldone\n",
      "\u001b[?25hDownloading mecab_python3-1.0.10-cp312-cp312-manylinux_2_17_x86_64.manylinux2014_x86_64.whl (591 kB)\n",
      "\u001b[2K   \u001b[90m━━━━━━━━━━━━━━━━━━━━━━━━━━━━━━━━━━━━━━━━\u001b[0m \u001b[32m591.2/591.2 kB\u001b[0m \u001b[31m36.9 MB/s\u001b[0m eta \u001b[36m0:00:00\u001b[0m\n",
      "\u001b[?25hBuilding wheels for collected packages: unidic-lite\n",
      "\u001b[33m  DEPRECATION: Building 'unidic-lite' using the legacy setup.py bdist_wheel mechanism, which will be removed in a future version. pip 25.3 will enforce this behaviour change. A possible replacement is to use the standardized build interface by setting the `--use-pep517` option, (possibly combined with `--no-build-isolation`), or adding a `pyproject.toml` file to the source tree of 'unidic-lite'. Discussion can be found at https://github.com/pypa/pip/issues/6334\u001b[0m\u001b[33m\n",
      "\u001b[0m  Building wheel for unidic-lite (setup.py) ... \u001b[?25ldone\n",
      "\u001b[?25h  Created wheel for unidic-lite: filename=unidic_lite-1.0.8-py3-none-any.whl size=47658911 sha256=dcb0d44acd74bc31541d2b3d6dabedac88b030ee327d96cab6651b4f634e8bc9\n",
      "  Stored in directory: /users/s1f102201582/.cache/pip/wheels/5e/1f/0f/4d43887e5476d956fae828ee9b6687becd5544d68b51ed633d\n",
      "Successfully built unidic-lite\n",
      "Installing collected packages: unidic-lite, mecab-python3\n",
      "\u001b[2K   \u001b[90m━━━━━━━━━━━━━━━━━━━━━━━━━━━━━━━━━━━━━━━━\u001b[0m \u001b[32m2/2\u001b[0m [mecab-python3]\n",
      "\u001b[1A\u001b[2KSuccessfully installed mecab-python3-1.0.10 unidic-lite-1.0.8\n"
     ]
    }
   ],
   "source": [
    "#mecabと日本語辞書をインストール\n",
    "!pip install mecab-python3 \\\n",
    " unidic-lite"
   ]
  },
  {
   "cell_type": "code",
   "execution_count": 3,
   "id": "1d9a67a9-730c-4d42-9974-445f611adc78",
   "metadata": {},
   "outputs": [
    {
     "name": "stdout",
     "output_type": "stream",
     "text": [
      "['すもも', 'も', 'もも', 'も', 'もも', 'の', 'うち', '。']\n"
     ]
    }
   ],
   "source": [
    "import MeCab\n",
    "\n",
    "def tokenize_text(text):\n",
    "    tokens = []\n",
    "    try:\n",
    "        # MeCabのタガーを初期化\n",
    "        tagger = MeCab.Tagger()\n",
    "\n",
    "        # MeCabは内部でShift-JISやEUC-JPを期待することがあるため、\n",
    "        # UnicodeDecodeErrorを避けるために明示的にUTF-8でエンコード・デコードする\n",
    "        # parseToNodeは、より詳細な情報をノードオブジェクトとして取得できるメソッド\n",
    "        node = tagger.parseToNode(text)\n",
    "        while node:\n",
    "            if node.surface:\n",
    "                tokens.append(node.surface)\n",
    "            \n",
    "            # 次のノードへ\n",
    "            node = node.next\n",
    "\n",
    "    except RuntimeError as e:\n",
    "        print(f\"MeCabの実行中にエラーが発生しました: {e}\", file=sys.stderr)\n",
    "        \n",
    "    return tokens\n",
    "\n",
    "# 解析したい日本語のテキスト\n",
    "sample_text = \"すもももももももものうち。\"\n",
    "\n",
    "# テキストをトークン化\n",
    "result_tokens = tokenize_text(sample_text)\n",
    "print(result_tokens)"
   ]
  },
  {
   "cell_type": "code",
   "execution_count": null,
   "id": "36f2ac1f-f956-46da-882a-c98bfadf5f91",
   "metadata": {},
   "outputs": [],
   "source": []
  }
 ],
 "metadata": {
  "kernelspec": {
   "display_name": "Python 3 (ipykernel)",
   "language": "python",
   "name": "python3"
  },
  "language_info": {
   "codemirror_mode": {
    "name": "ipython",
    "version": 3
   },
   "file_extension": ".py",
   "mimetype": "text/x-python",
   "name": "python",
   "nbconvert_exporter": "python",
   "pygments_lexer": "ipython3",
   "version": "3.13.7"
  }
 },
 "nbformat": 4,
 "nbformat_minor": 5
}
