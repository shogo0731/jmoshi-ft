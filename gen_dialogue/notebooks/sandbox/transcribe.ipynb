{
 "cells": [
  {
   "cell_type": "code",
   "execution_count": 1,
   "id": "d05733ff-3718-4757-a2f3-fc2269a79001",
   "metadata": {
    "scrolled": true
   },
   "outputs": [
    {
     "name": "stdout",
     "output_type": "stream",
     "text": [
      "Collecting git+https://github.com/openai/whisper.git\n",
      "  Cloning https://github.com/openai/whisper.git to /tmp/pip-req-build-ur7nnijn\n",
      "  Running command git clone --filter=blob:none --quiet https://github.com/openai/whisper.git /tmp/pip-req-build-ur7nnijn\n",
      "  Resolved https://github.com/openai/whisper.git to commit c0d2f624c09dc18e709e37c2ad90c039a4eb72a2\n",
      "  Installing build dependencies ... \u001b[?25ldone\n",
      "\u001b[?25h  Getting requirements to build wheel ... \u001b[?25ldone\n",
      "\u001b[?25h  Preparing metadata (pyproject.toml) ... \u001b[?25ldone\n",
      "\u001b[?25hRequirement already satisfied: torch in /home1/s1f102201582/anaconda3/envs/py10_jupy_only/lib/python3.10/site-packages (2.8.0)\n",
      "Requirement already satisfied: numpy in /home1/s1f102201582/anaconda3/envs/py10_jupy_only/lib/python3.10/site-packages (1.22.0)\n",
      "Requirement already satisfied: soundfile in /home1/s1f102201582/anaconda3/envs/py10_jupy_only/lib/python3.10/site-packages (0.13.1)\n",
      "Requirement already satisfied: more-itertools in /home1/s1f102201582/anaconda3/envs/py10_jupy_only/lib/python3.10/site-packages (from openai-whisper==20250625) (10.7.0)\n",
      "Requirement already satisfied: numba in /home1/s1f102201582/anaconda3/envs/py10_jupy_only/lib/python3.10/site-packages (from openai-whisper==20250625) (0.60.0)\n",
      "Requirement already satisfied: tiktoken in /home1/s1f102201582/anaconda3/envs/py10_jupy_only/lib/python3.10/site-packages (from openai-whisper==20250625) (0.11.0)\n",
      "Requirement already satisfied: tqdm in /home1/s1f102201582/anaconda3/envs/py10_jupy_only/lib/python3.10/site-packages (from openai-whisper==20250625) (4.67.1)\n",
      "Requirement already satisfied: triton>=2 in /home1/s1f102201582/anaconda3/envs/py10_jupy_only/lib/python3.10/site-packages (from openai-whisper==20250625) (3.4.0)\n",
      "Requirement already satisfied: filelock in /home1/s1f102201582/anaconda3/envs/py10_jupy_only/lib/python3.10/site-packages (from torch) (3.19.1)\n",
      "Requirement already satisfied: typing-extensions>=4.10.0 in /home1/s1f102201582/anaconda3/envs/py10_jupy_only/lib/python3.10/site-packages (from torch) (4.15.0)\n",
      "Requirement already satisfied: sympy>=1.13.3 in /home1/s1f102201582/anaconda3/envs/py10_jupy_only/lib/python3.10/site-packages (from torch) (1.14.0)\n",
      "Requirement already satisfied: networkx in /home1/s1f102201582/anaconda3/envs/py10_jupy_only/lib/python3.10/site-packages (from torch) (2.8.8)\n",
      "Requirement already satisfied: jinja2 in /home1/s1f102201582/anaconda3/envs/py10_jupy_only/lib/python3.10/site-packages (from torch) (3.1.6)\n",
      "Requirement already satisfied: fsspec in /home1/s1f102201582/anaconda3/envs/py10_jupy_only/lib/python3.10/site-packages (from torch) (2025.7.0)\n",
      "Requirement already satisfied: nvidia-cuda-nvrtc-cu12==12.8.93 in /home1/s1f102201582/anaconda3/envs/py10_jupy_only/lib/python3.10/site-packages (from torch) (12.8.93)\n",
      "Requirement already satisfied: nvidia-cuda-runtime-cu12==12.8.90 in /home1/s1f102201582/anaconda3/envs/py10_jupy_only/lib/python3.10/site-packages (from torch) (12.8.90)\n",
      "Requirement already satisfied: nvidia-cuda-cupti-cu12==12.8.90 in /home1/s1f102201582/anaconda3/envs/py10_jupy_only/lib/python3.10/site-packages (from torch) (12.8.90)\n",
      "Requirement already satisfied: nvidia-cudnn-cu12==9.10.2.21 in /home1/s1f102201582/anaconda3/envs/py10_jupy_only/lib/python3.10/site-packages (from torch) (9.10.2.21)\n",
      "Requirement already satisfied: nvidia-cublas-cu12==12.8.4.1 in /home1/s1f102201582/anaconda3/envs/py10_jupy_only/lib/python3.10/site-packages (from torch) (12.8.4.1)\n",
      "Requirement already satisfied: nvidia-cufft-cu12==11.3.3.83 in /home1/s1f102201582/anaconda3/envs/py10_jupy_only/lib/python3.10/site-packages (from torch) (11.3.3.83)\n",
      "Requirement already satisfied: nvidia-curand-cu12==10.3.9.90 in /home1/s1f102201582/anaconda3/envs/py10_jupy_only/lib/python3.10/site-packages (from torch) (10.3.9.90)\n",
      "Requirement already satisfied: nvidia-cusolver-cu12==11.7.3.90 in /home1/s1f102201582/anaconda3/envs/py10_jupy_only/lib/python3.10/site-packages (from torch) (11.7.3.90)\n",
      "Requirement already satisfied: nvidia-cusparse-cu12==12.5.8.93 in /home1/s1f102201582/anaconda3/envs/py10_jupy_only/lib/python3.10/site-packages (from torch) (12.5.8.93)\n",
      "Requirement already satisfied: nvidia-cusparselt-cu12==0.7.1 in /home1/s1f102201582/anaconda3/envs/py10_jupy_only/lib/python3.10/site-packages (from torch) (0.7.1)\n",
      "Requirement already satisfied: nvidia-nccl-cu12==2.27.3 in /home1/s1f102201582/anaconda3/envs/py10_jupy_only/lib/python3.10/site-packages (from torch) (2.27.3)\n",
      "Requirement already satisfied: nvidia-nvtx-cu12==12.8.90 in /home1/s1f102201582/anaconda3/envs/py10_jupy_only/lib/python3.10/site-packages (from torch) (12.8.90)\n",
      "Requirement already satisfied: nvidia-nvjitlink-cu12==12.8.93 in /home1/s1f102201582/anaconda3/envs/py10_jupy_only/lib/python3.10/site-packages (from torch) (12.8.93)\n",
      "Requirement already satisfied: nvidia-cufile-cu12==1.13.1.3 in /home1/s1f102201582/anaconda3/envs/py10_jupy_only/lib/python3.10/site-packages (from torch) (1.13.1.3)\n",
      "Requirement already satisfied: setuptools>=40.8.0 in /home1/s1f102201582/anaconda3/envs/py10_jupy_only/lib/python3.10/site-packages (from triton>=2->openai-whisper==20250625) (73.0.1)\n",
      "Requirement already satisfied: cffi>=1.0 in /home1/s1f102201582/anaconda3/envs/py10_jupy_only/lib/python3.10/site-packages (from soundfile) (1.15.0)\n",
      "Requirement already satisfied: pycparser in /home1/s1f102201582/anaconda3/envs/py10_jupy_only/lib/python3.10/site-packages (from cffi>=1.0->soundfile) (2.22)\n",
      "Requirement already satisfied: mpmath<1.4,>=1.1.0 in /home1/s1f102201582/anaconda3/envs/py10_jupy_only/lib/python3.10/site-packages (from sympy>=1.13.3->torch) (1.3.0)\n",
      "Requirement already satisfied: MarkupSafe>=2.0 in /home1/s1f102201582/anaconda3/envs/py10_jupy_only/lib/python3.10/site-packages (from jinja2->torch) (2.1.1)\n",
      "Requirement already satisfied: llvmlite<0.44,>=0.43.0dev0 in /home1/s1f102201582/anaconda3/envs/py10_jupy_only/lib/python3.10/site-packages (from numba->openai-whisper==20250625) (0.43.0)\n",
      "Requirement already satisfied: regex>=2022.1.18 in /home1/s1f102201582/anaconda3/envs/py10_jupy_only/lib/python3.10/site-packages (from tiktoken->openai-whisper==20250625) (2025.8.29)\n",
      "Requirement already satisfied: requests>=2.26.0 in /home1/s1f102201582/anaconda3/envs/py10_jupy_only/lib/python3.10/site-packages (from tiktoken->openai-whisper==20250625) (2.32.5)\n",
      "Requirement already satisfied: charset_normalizer<4,>=2 in /home1/s1f102201582/anaconda3/envs/py10_jupy_only/lib/python3.10/site-packages (from requests>=2.26.0->tiktoken->openai-whisper==20250625) (3.4.3)\n",
      "Requirement already satisfied: idna<4,>=2.5 in /home1/s1f102201582/anaconda3/envs/py10_jupy_only/lib/python3.10/site-packages (from requests>=2.26.0->tiktoken->openai-whisper==20250625) (3.10)\n",
      "Requirement already satisfied: urllib3<3,>=1.21.1 in /home1/s1f102201582/anaconda3/envs/py10_jupy_only/lib/python3.10/site-packages (from requests>=2.26.0->tiktoken->openai-whisper==20250625) (2.5.0)\n",
      "Requirement already satisfied: certifi>=2017.4.17 in /home1/s1f102201582/anaconda3/envs/py10_jupy_only/lib/python3.10/site-packages (from requests>=2.26.0->tiktoken->openai-whisper==20250625) (2025.8.3)\n",
      "Building wheels for collected packages: openai-whisper\n",
      "  Building wheel for openai-whisper (pyproject.toml) ... \u001b[?25ldone\n",
      "\u001b[?25h  Created wheel for openai-whisper: filename=openai_whisper-20250625-py3-none-any.whl size=803979 sha256=c9e41d2f0c10dc750977f6564cf1bb11aee891b10528f1fe4d06b831ed01c792\n",
      "  Stored in directory: /tmp/pip-ephem-wheel-cache-xak2rzqu/wheels/8b/6c/d0/622666868c179f156cf595c8b6f06f88bc5d80c4b31dccaa03\n",
      "Successfully built openai-whisper\n",
      "Installing collected packages: openai-whisper\n",
      "Successfully installed openai-whisper-20250625\n"
     ]
    }
   ],
   "source": [
    "!pip install torch \\\n",
    "    numpy \\\n",
    "    soundfile \\\n",
    "    git+https://github.com/openai/whisper.git"
   ]
  },
  {
   "cell_type": "code",
   "execution_count": 9,
   "id": "24553f89-1caf-469f-a95d-ee8d690cca6c",
   "metadata": {},
   "outputs": [],
   "source": [
    "import os\n",
    "import json\n",
    "\n",
    "import whisper\n",
    "import torch\n",
    "import soundfile as sf\n",
    "import numpy as np\n",
    "\n",
    "# 入力ファイル（ステレオWAV）\n",
    "audio_path = 'dialogue_stereo.wav'"
   ]
  },
  {
   "cell_type": "code",
   "execution_count": 11,
   "id": "30a16162-8ef6-4048-a760-3d4ac5c5d7f8",
   "metadata": {
    "scrolled": true
   },
   "outputs": [
    {
     "name": "stderr",
     "output_type": "stream",
     "text": [
      "100%|████████████████████████████████████████| 461M/461M [00:04<00:00, 109MiB/s]\n"
     ]
    },
    {
     "name": "stdout",
     "output_type": "stream",
     "text": [
      "書き出し完了： dialogue_transcript.json\n"
     ]
    }
   ],
   "source": [
    "# ステレオ分離: speaker A=左(0), B=右(1)と仮定\n",
    "audio, sr = sf.read(audio_path)    # (samples, channels)\n",
    "channel_A = audio[:,0]\n",
    "channel_B = audio[:,1]\n",
    "\n",
    "local_rank = 0\n",
    "torch.cuda.set_device(local_rank)\n",
    "os.environ[\"CUDA_VISIBLE_DEVICES\"] = str(local_rank)\n",
    "os.environ[\"OMP_NUM_THREADS\"] = \"2\"\n",
    "device = torch.device(f\"cuda:{local_rank}\")\n",
    "\n",
    "# Whisperモデルのロード（smallかmediumが推奨、'ja'指定で日本語推論）\n",
    "model = whisper.load_model('small', device=device)\n",
    "\n",
    "def transcribe_channel(channel, sr, speaker_label):\n",
    "    # Whisper expects mono wav, so pass as-is\n",
    "    result = model.transcribe(\n",
    "        channel.astype(np.float32), \n",
    "        language='ja', \n",
    "        word_timestamps=True  # NOTE: requires Whisper >=2023.4\n",
    "    )\n",
    "    # word-level JSON extraction\n",
    "    words_json = []\n",
    "    for segment in result['segments']:\n",
    "        for word in segment['words']:   # word-level timestamps\n",
    "            words_json.append({\n",
    "                'speaker': speaker_label,\n",
    "                'word': word['word'],\n",
    "                'start': word['start'],\n",
    "                'end': word['end']\n",
    "            })\n",
    "    return words_json\n",
    "\n",
    "# 両チャンネルを transcribe\n",
    "json_A = transcribe_channel(channel_A, sr, \"A\")\n",
    "json_B = transcribe_channel(channel_B, sr, \"B\")\n",
    "\n",
    "# 発話時間でソート（複数話者の時系列並び用）\n",
    "full_json = json_A + json_B\n",
    "full_json_sorted = sorted(full_json, key=lambda x: x['start'])\n",
    "\n",
    "# JSON出力\n",
    "with open('dialogue_transcript.json', 'w', encoding='utf-8') as f:\n",
    "    json.dump(full_json_sorted, f, ensure_ascii=False, indent=2)\n",
    "\n",
    "print('書き出し完了： dialogue_transcript.json')"
   ]
  },
  {
   "cell_type": "code",
   "execution_count": null,
   "id": "cb3fa7f1-3834-41dc-a328-02374477b8f1",
   "metadata": {},
   "outputs": [],
   "source": []
  }
 ],
 "metadata": {
  "kernelspec": {
   "display_name": "Python 3 (ipykernel)",
   "language": "python",
   "name": "python3"
  },
  "language_info": {
   "codemirror_mode": {
    "name": "ipython",
    "version": 3
   },
   "file_extension": ".py",
   "mimetype": "text/x-python",
   "name": "python",
   "nbconvert_exporter": "python",
   "pygments_lexer": "ipython3",
   "version": "3.13.7"
  }
 },
 "nbformat": 4,
 "nbformat_minor": 5
}
