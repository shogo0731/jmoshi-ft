{
 "cells": [
  {
   "cell_type": "markdown",
   "id": "276dc24c-a03a-4f02-923b-4963f2307572",
   "metadata": {},
   "source": [
    "# FT用データ生成スクリプト"
   ]
  },
  {
   "cell_type": "code",
   "execution_count": 1,
   "id": "683a8852-50c8-4ba2-a611-589ebd76bc9e",
   "metadata": {
    "scrolled": true
   },
   "outputs": [],
   "source": [
    "# !conda install -y -c conda-forge kalpy \\\n",
    "# kaldi \\\n",
    "# pynini\n",
    "\n",
    "# # パッケージインストール\n",
    "# !pip install -r requirements.sbv.txt"
   ]
  },
  {
   "cell_type": "code",
   "execution_count": 2,
   "id": "a816459b-765b-42cb-a7d1-10a1211a3fa3",
   "metadata": {
    "scrolled": true
   },
   "outputs": [],
   "source": [
    "# !pip list"
   ]
  },
  {
   "cell_type": "code",
   "execution_count": 3,
   "id": "69a5268f-a2e3-48e3-ab2a-54e9e5e298e9",
   "metadata": {},
   "outputs": [],
   "source": [
    "# # mfa\n",
    "# # 日本語辞書のダウンロード\n",
    "# !mfa model download dictionary japanese_mfa\n",
    "\n",
    "# # 日本語音響モデルのダウンロード\n",
    "# !mfa model download acoustic japanese_mfa"
   ]
  },
  {
   "cell_type": "markdown",
   "id": "9b6e391c-3079-4a7f-8eeb-e122e07f6707",
   "metadata": {},
   "source": [
    "## テキスト対話データ生成"
   ]
  },
  {
   "cell_type": "code",
   "execution_count": 4,
   "id": "1666ef7b-1012-47c3-9229-6082e2d04f8d",
   "metadata": {
    "scrolled": true
   },
   "outputs": [
    {
     "name": "stderr",
     "output_type": "stream",
     "text": [
      "/nfs1/s1f102201582/anaconda3/envs/sbv-tts/lib/python3.12/site-packages/tqdm/auto.py:21: TqdmWarning: IProgress not found. Please update jupyter and ipywidgets. See https://ipywidgets.readthedocs.io/en/stable/user_install.html\n",
      "  from .autonotebook import tqdm as notebook_tqdm\n"
     ]
    },
    {
     "data": {
      "text/plain": [
       "True"
      ]
     },
     "execution_count": 4,
     "metadata": {},
     "output_type": "execute_result"
    }
   ],
   "source": [
    "import os\n",
    "from typing import Literal\n",
    "import ast\n",
    "\n",
    "from dotenv import load_dotenv\n",
    "from langchain_chroma import Chroma\n",
    "from langchain_community.document_loaders import DirectoryLoader\n",
    "from langchain_community.document_loaders import PDFMinerLoader\n",
    "from langchain_openai import OpenAIEmbeddings\n",
    "from langchain_text_splitters import RecursiveCharacterTextSplitter\n",
    "from langchain_openai import ChatOpenAI\n",
    "from langchain_google_genai import ChatGoogleGenerativeAI\n",
    "\n",
    "\n",
    "# .envファイル読み込み\n",
    "load_dotenv()"
   ]
  },
  {
   "cell_type": "code",
   "execution_count": 5,
   "id": "473c6dfd-9d4d-4bac-904a-df31dcd1a50d",
   "metadata": {},
   "outputs": [],
   "source": [
    "#config\n",
    "from os.path import join, expanduser\n",
    "\n",
    "OPENAI_API_KEY = os.environ[\"OPENAI_API_KEY\"]\n",
    "BASE_URL = \"https://api.openai.iniad.org/api/v1\"\n",
    "MODEL='gemini-2.5-flash'\n",
    "TEMPERATURE = 1.0\n",
    "os.environ[\"CUDA_VISIBLE_DEVICES\"] = \"0,1,2,3\"\n",
    "\n",
    "# 生成する音声のサンプリングレート\n",
    "setting_sr = 16000\n",
    "\n",
    "#対話音声データの個数を指定\n",
    "gen_dial_num = 1\n",
    "\n",
    "# すでに作成した対話データを削除するかどうか\n",
    "IS_REMOVE_EXIST_FILE = True\n",
    "\n",
    "# ftに使うjsonとaudioの出力フォルダパス\n",
    "home_dir = expanduser(\"~\")\n",
    "json_dir_path = join(home_dir, \"Github/jmoshi-ft/gen_dialogue/data/sbv/transcription\")\n",
    "audio_dir_path = join(home_dir, \"Github/jmoshi-ft/gen_dialogue/data/sbv/audio\")\n",
    "\n",
    "# mfa関連のパス\n",
    "model_dir = join(home_dir, \"Documents/MFA/pretrained_models/acoustic/japanese_mfa.zip\")\n",
    "mfa_input_dir = join(home_dir, \"Github/jmoshi-ft/gen_dialogue/data/sbv/mfa_input\")\n",
    "mfa_output_dir = join(home_dir, \"Github/jmoshi-ft/gen_dialogue/data/sbv/mfa_output\")"
   ]
  },
  {
   "cell_type": "code",
   "execution_count": 6,
   "id": "bf8bffea-83d1-44b8-9e3d-0bd71321ad36",
   "metadata": {},
   "outputs": [],
   "source": [
    "base_paths = [\n",
    "    json_dir_path,\n",
    "    audio_dir_path,\n",
    "    mfa_input_dir,\n",
    "    mfa_output_dir,\n",
    "]\n",
    "\n",
    "for p in base_paths:\n",
    "    if not os.path.isdir(p):\n",
    "        os.makedirs(p)"
   ]
  },
  {
   "cell_type": "code",
   "execution_count": 7,
   "id": "bbc14b9b-7981-4975-a07b-16114cf7b3af",
   "metadata": {
    "scrolled": true
   },
   "outputs": [],
   "source": [
    "# model定義\n",
    "model = ChatGoogleGenerativeAI(\n",
    "                 model=MODEL,\n",
    "                 temperature=TEMPERATURE)\n",
    "\n",
    "# 埋め込みモデル定義\n",
    "embeddings = OpenAIEmbeddings(\n",
    "    openai_api_key=OPENAI_API_KEY,\n",
    "    openai_api_base=BASE_URL,\n",
    "    model=\"text-embedding-3-large\"\n",
    ")\n",
    "\n",
    "# データベース定義\n",
    "vector_store = Chroma(\n",
    "    collection_name=\"collection\",\n",
    "    embedding_function=embeddings,\n",
    "    # persist_directory = \"/path/to/db_file\" # if necessary\n",
    ")"
   ]
  },
  {
   "cell_type": "code",
   "execution_count": 8,
   "id": "97a271ae-62d4-44d1-b10d-8a8e38796ad8",
   "metadata": {
    "scrolled": true
   },
   "outputs": [
    {
     "name": "stderr",
     "output_type": "stream",
     "text": [
      "  0%|                                                                | 0/3 [00:00<?, ?it/s]Cannot set gray non-stroke color because /'P0' is an invalid float value\n",
      "Cannot set gray non-stroke color because /'P1' is an invalid float value\n",
      "Cannot set gray non-stroke color because /'P0' is an invalid float value\n",
      "Cannot set gray non-stroke color because /'P1' is an invalid float value\n",
      "Cannot set gray non-stroke color because /'P0' is an invalid float value\n",
      "Cannot set gray non-stroke color because /'P1' is an invalid float value\n",
      "Cannot set gray non-stroke color because /'P0' is an invalid float value\n",
      "Cannot set gray non-stroke color because /'P1' is an invalid float value\n",
      "Cannot set gray non-stroke color because /'P0' is an invalid float value\n",
      "Cannot set gray non-stroke color because /'P1' is an invalid float value\n",
      "Cannot set gray non-stroke color because /'P0' is an invalid float value\n",
      "Cannot set gray non-stroke color because /'P1' is an invalid float value\n",
      "Cannot set gray non-stroke color because /'P0' is an invalid float value\n",
      "Cannot set gray non-stroke color because /'P1' is an invalid float value\n",
      "100%|████████████████████████████████████████████████████████| 3/3 [00:03<00:00,  1.13s/it]"
     ]
    },
    {
     "name": "stdout",
     "output_type": "stream",
     "text": [
      "Loaded 3 documents\n"
     ]
    },
    {
     "name": "stderr",
     "output_type": "stream",
     "text": [
      "\n"
     ]
    }
   ],
   "source": [
    "loader = DirectoryLoader(\n",
    "    \"../../mental_docs/\",\n",
    "    glob=\"*.pdf\",\n",
    "    show_progress=True,\n",
    "    loader_cls=PDFMinerLoader,\n",
    ")\n",
    "docs = loader.load()\n",
    "print(f\"Loaded {len(docs)} documents\")"
   ]
  },
  {
   "cell_type": "code",
   "execution_count": 9,
   "id": "669019e5-a634-40d8-b0f8-31abe0fb4877",
   "metadata": {
    "scrolled": true
   },
   "outputs": [],
   "source": [
    "# Debug\n",
    "# for doc in docs:\n",
    "#     print(\"-------------------------------------------------\")\n",
    "#     print(doc.metadata)\n",
    "#     print(len(doc.page_content))\n",
    "#     print(doc.page_content[:100])"
   ]
  },
  {
   "cell_type": "code",
   "execution_count": 10,
   "id": "9ff84496-9aa7-45d9-89d3-3b8cde22fd2e",
   "metadata": {},
   "outputs": [],
   "source": [
    "#読み込んだ文章データをオーバーラップ200文字で1000文字づつ分割\n",
    "text_splitter = RecursiveCharacterTextSplitter(\n",
    "    chunk_size=1000,\n",
    "    chunk_overlap=200,\n",
    "    add_start_index=True, # 分割前の文章のインデックスを追跡\n",
    ")\n",
    "splits = text_splitter.split_documents(docs)\n",
    "\n",
    "# データベースにデータを追加\n",
    "document_ids = vector_store.add_documents(documents=splits)"
   ]
  },
  {
   "cell_type": "code",
   "execution_count": 11,
   "id": "757916d2-87c6-4033-8a23-02f0eaa6b074",
   "metadata": {},
   "outputs": [],
   "source": [
    "from langchain.agents.middleware import dynamic_prompt, ModelRequest\n",
    "\n",
    "@dynamic_prompt\n",
    "def prompt_with_context(request: ModelRequest) -> str:\n",
    "    \"\"\"Inject context into state messages.\"\"\"\n",
    "    last_query = request.state[\"messages\"][-1].text\n",
    "    retrieved_docs = vector_store.similarity_search(last_query, k=2)\n",
    "\n",
    "    docs_content = \"\\n\\n\".join(doc.page_content for doc in retrieved_docs)\n",
    "\n",
    "    system_message = (\n",
    "        \"You are a helpful assistant. Use the following context in your response:\"\n",
    "        f\"\\n\\n{docs_content}\"\n",
    "    )\n",
    "\n",
    "    return system_message"
   ]
  },
  {
   "cell_type": "code",
   "execution_count": 12,
   "id": "d58e3775-2aad-4363-b893-f7d74f62d3da",
   "metadata": {},
   "outputs": [],
   "source": [
    "from typing import Literal\n",
    "\n",
    "from pydantic import BaseModel, Field\n",
    "\n",
    "\n",
    "class Dialogue(BaseModel):\n",
    "    \"\"\"対話データを構成する対話クラス\"\"\"\n",
    "    speaker: Literal[\"A\", \"B\"] = Field(..., description=\"話者。Aはカウンセラー、Bはクライエントを表す。\")\n",
    "    text: str = Field(..., description=\"話者が話した内容。\")\n",
    "\n",
    "class Dialogues(BaseModel):\n",
    "    \"\"\"カウンセリングを目的としたカウンセリング対話データ\"\"\"\n",
    "    dialogues: list[Dialogue] = Field(..., description=\"対話データを構成する対話クラスのリスト。\")"
   ]
  },
  {
   "cell_type": "code",
   "execution_count": 13,
   "id": "c850f79b-c9ac-4722-b165-481de934e13a",
   "metadata": {},
   "outputs": [],
   "source": [
    "from langchain.agents import create_agent\n",
    "from langchain.agents.structured_output import ToolStrategy\n",
    "\n",
    "agent = create_agent(\n",
    "    model, \n",
    "    tools=[],\n",
    "    middleware=[prompt_with_context],\n",
    "    response_format=ToolStrategy(\n",
    "        Dialogues,\n",
    "        handle_errors=\"フォーマットに合うように、もう一度対話データを生成してください。\"\n",
    "    )\n",
    ")"
   ]
  },
  {
   "cell_type": "code",
   "execution_count": 14,
   "id": "261f3908-86f7-4ddb-9565-c7b56e25632b",
   "metadata": {},
   "outputs": [],
   "source": [
    "#promptを作成\n",
    "import random\n",
    "\n",
    "\n",
    "sessions = [\n",
    "    \"【段階：初期】信頼関係を築きつつ、悩みの背景を深掘りするシーン\",\n",
    "    \"【段階：中期】クライエントの「すべき思考」に焦点を当て、認知の歪みを扱うシーン\",\n",
    "    \"【段階：終結期】これまでのセッションを振り返り、終結に向けて準備するシーン\",\n",
    "]\n",
    "\n",
    "def gen_prompt_txt():\n",
    "    choiced = random.randint(0, 2)\n",
    "    choiced_session = sessions[choiced]\n",
    "    prompt_txt = f\"\"\"メンタルヘルスケアカウンセリングのセッションをシミュレーションしてください。\n",
    "シミュレーションしたい「段階」と「テーマ」:\n",
    "{choiced_session}\n",
    "\n",
    "役割定義:\n",
    "A (カウンセラー): メンタルヘルスケアの専門知識を持つ経験豊富なカウンセラー。傾聴と共感の姿勢を基本とし、クライエントの言葉を促すように、優しく、自然な話し言葉（「〜ですね」「〜でしたか」など）を使います。\n",
    "B (クライエント): 仕事上の悩みだけでなく、日常生活全般に対して漠然とした不安や焦りを感じている人物。\n",
    "\n",
    "対話の要件:\n",
    "スタイル: 実際の会話の文字起こしのように、堅苦しくない自然な「話し言葉」を使用してください。\n",
    "相槌 (あいづち): カウンセラー（A）は、クライエント（B）の話を促し、共感を示すため、「ええ」「はい」「そうなんですね」「なるほど」といった細かな相槌を頻繁に、適切なタイミングで挿入してください。\n",
    "構成: 会話が途中で途切れるのではなく、初回のヒアリングとして「一区切り」がつき、自然に終了する流れにしてください（例：次回の約束、今回のまとめなど）。\n",
    "分量: 会話の往復は合計12〜20ターン程度、全体の文字数が合計500〜800文字程度になるように構成してください。\n",
    "\"\"\"\n",
    "    return prompt_txt"
   ]
  },
  {
   "cell_type": "code",
   "execution_count": 15,
   "id": "3d76aa80-c527-41a1-963a-5e60dc2307e2",
   "metadata": {},
   "outputs": [],
   "source": [
    "# テキスト対話生成関数\n",
    "def gen_txt_dialogue():\n",
    "    prompt = gen_prompt_txt()\n",
    "    resp = agent.invoke({\"messages\": [{\"role\": \"user\", \"content\": prompt}]})\n",
    "    dialogues_list = resp[\"structured_response\"].dialogues\n",
    "    return dialogues_list"
   ]
  },
  {
   "cell_type": "code",
   "execution_count": 16,
   "id": "5813f865-a27c-473c-8acc-e8739dd606ff",
   "metadata": {
    "scrolled": true
   },
   "outputs": [],
   "source": [
    "#DEBUG\n",
    "# txt_dialogue = gen_txt_dialogue()\n",
    "# print(txt_dialogue)\n",
    "# lst_dialogue = txt_to_lst(txt_dialogue)\n",
    "# print(lst_dialogue)"
   ]
  },
  {
   "cell_type": "markdown",
   "id": "c4cd4da5-0ba6-4958-929d-c547e7c1f72c",
   "metadata": {},
   "source": [
    "## テキスト対話データを音声対話データに変換 "
   ]
  },
  {
   "cell_type": "code",
   "execution_count": 17,
   "id": "2caf61a3-b36a-48a1-8604-b8d720c5265d",
   "metadata": {
    "scrolled": true
   },
   "outputs": [
    {
     "name": "stdout",
     "output_type": "stream",
     "text": [
      "\u001b[32m10-26 00:34:14\u001b[0m |\u001b[1m  INFO  \u001b[0m| bert_models.py:92 | Loaded the Languages.JP BERT model from ku-nlp/deberta-v2-large-japanese-char-wwm\n",
      "\u001b[32m10-26 00:34:17\u001b[0m |\u001b[1m  INFO  \u001b[0m| bert_models.py:154 | Loaded the Languages.JP BERT tokenizer from ku-nlp/deberta-v2-large-japanese-char-wwm\n",
      "jvnv-F2-jp/jvnv-F2_e166_s20000.safetensors\n",
      "jvnv-F2-jp/config.json\n",
      "jvnv-F2-jp/style_vectors.npy\n",
      "jvnv-M2-jp/jvnv-M2-jp_e159_s17000.safetensors\n",
      "jvnv-M2-jp/config.json\n",
      "jvnv-M2-jp/style_vectors.npy\n"
     ]
    }
   ],
   "source": [
    "from style_bert_vits2.nlp import bert_models\n",
    "from style_bert_vits2.constants import Languages\n",
    "from pathlib import Path\n",
    "from huggingface_hub import hf_hub_download\n",
    "from style_bert_vits2.tts_model import TTSModel\n",
    "\n",
    "bert_models.load_model(Languages.JP, \"ku-nlp/deberta-v2-large-japanese-char-wwm\")\n",
    "bert_models.load_tokenizer(Languages.JP, \"ku-nlp/deberta-v2-large-japanese-char-wwm\")\n",
    "assets_root = Path(\"model_assets\")\n",
    "\n",
    "# # 子春音あみ\n",
    "# model_file = \"koharune-ami/koharune-ami.safetensors\"\n",
    "# config_file = \"koharune-ami/config.json\"\n",
    "# style_file = \"koharune-ami/style_vectors.npy\"\n",
    "# hf_repo = \"litagin/sbv2_koharune_ami\"\n",
    "\n",
    "# # あみたろ\n",
    "# model_file = \"amitaro/amitaro.safetensors\"\n",
    "# config_file = \"amitaro/config.json\"\n",
    "# style_file = \"amitaro/style_vectors.npy\"\n",
    "# hf_repo = \"litagin/sbv2_amitaro\"\n",
    "\n",
    "\n",
    "# デフォルトの女性2\n",
    "model_file = \"jvnv-F2-jp/jvnv-F2_e166_s20000.safetensors\"\n",
    "config_file = \"jvnv-F2-jp/config.json\"\n",
    "style_file = \"jvnv-F2-jp/style_vectors.npy\"\n",
    "hf_repo = \"litagin/style_bert_vits2_jvnv\"\n",
    "\n",
    "for file in [model_file, config_file, style_file]:\n",
    "    print(file)\n",
    "    hf_hub_download(hf_repo, file, local_dir=\"model_assets\")\n",
    "\n",
    "A_model = TTSModel(\n",
    "    model_path=assets_root / model_file,\n",
    "    config_path=assets_root / config_file,\n",
    "    style_vec_path=assets_root / style_file,\n",
    "    device=\"cuda\",\n",
    ")\n",
    "\n",
    "# デフォルトの男性2\n",
    "model_file = \"jvnv-M2-jp/jvnv-M2-jp_e159_s17000.safetensors\"\n",
    "config_file = \"jvnv-M2-jp/config.json\"\n",
    "style_file = \"jvnv-M2-jp/style_vectors.npy\"\n",
    "\n",
    "for file in [model_file, config_file, style_file]:\n",
    "    print(file)\n",
    "    hf_hub_download(hf_repo, file, local_dir=\"model_assets\")\n",
    "\n",
    "B_model = TTSModel(\n",
    "    model_path=assets_root / model_file,\n",
    "    config_path=assets_root / config_file,\n",
    "    style_vec_path=assets_root / style_file,\n",
    "    device=\"cuda\",\n",
    ")"
   ]
  },
  {
   "cell_type": "code",
   "execution_count": 31,
   "id": "0c975667-8174-4762-9db7-e8a602d2adaf",
   "metadata": {},
   "outputs": [],
   "source": [
    "def build_audio_synth_prompt(text_dialogue_list):\n",
    "    resp = \"\"\n",
    "    resp_header =  \"\"\"あなたがこれから音声合成するテキストは以下の対話内容のワンフレーズです。\n",
    "この対話の文脈に合うように音声合成してください。\n",
    "\n",
    "<対話内容の全文>\"\"\"\n",
    "    resp += resp_header\n",
    "    for text_dial in text_dialogue_list:\n",
    "        resp += f\"\\n{text_dial.speaker}: {text_dial.text}\"\n",
    "    print(resp)\n",
    "    return resp"
   ]
  },
  {
   "cell_type": "code",
   "execution_count": 19,
   "id": "568879f5-82d9-488f-a281-d3ad816f248a",
   "metadata": {},
   "outputs": [],
   "source": [
    "from typing import Literal\n",
    "\n",
    "def sbv_tts(text: str, speaker: Literal[\"A\", \"B\"], assist_text=None):\n",
    "    if speaker == \"A\":\n",
    "        sr, audio = A_model.infer(\n",
    "            text = text,\n",
    "            style='Happy',\n",
    "            style_weight=1,\n",
    "            split_interval = 0.3,\n",
    "            use_assist_text = True if assist_text is not None else None,\n",
    "            assist_text = assist_text\n",
    "        )\n",
    "    else:\n",
    "        sr, audio = B_model.infer(\n",
    "            text = text,\n",
    "            style='Sad',\n",
    "            style_weight=1,\n",
    "            split_interval = 0.3,\n",
    "            use_assist_text = True if assist_text is not None else None,\n",
    "            assist_text = assist_text\n",
    "        )\n",
    "    \n",
    "    return sr, audio"
   ]
  },
  {
   "cell_type": "code",
   "execution_count": 28,
   "id": "d9df1471-cccf-40fb-bb30-23ba6fdeba25",
   "metadata": {},
   "outputs": [],
   "source": [
    "import librosa\n",
    "import numpy as np\n",
    "\n",
    "def gen_audio_dialogue(text_dialogue_list, prompt):\n",
    "    # 音声ファイルを順番に生成（ファイルは不要なのでwave配列で持つ）\n",
    "    wav_data = []\n",
    "    for dial in text_dialogue_list:\n",
    "        speaker = dial.speaker\n",
    "        sr, wav = sbv_tts(dial.text, speaker, prompt)\n",
    "\n",
    "        # サンプリングレートを変換\n",
    "        if sr != setting_sr:\n",
    "            # 16ビット整数のデータを、-1.0から1.0の範囲に収まる浮動小数点数に正規化\n",
    "            wav = wav.astype(np.float32) / 32768.0\n",
    "            wav = librosa.resample(wav, orig_sr=sr, target_sr=setting_sr)\n",
    "\n",
    "        # 0.3秒間の無音時間を追加\n",
    "        duration_sec = 0.3\n",
    "        num_silent_samples = int(setting_sr*duration_sec)\n",
    "        silence = np.zeros(num_silent_samples, dtype=wav.dtype)\n",
    "        wav_with_silence = np.concatenate((wav, silence))\n",
    "        wav_data.append(wav_with_silence)\n",
    "    \n",
    "    # 最終的な音声長を決定\n",
    "    max_len = sum([len(w) for w in wav_data])\n",
    "    \n",
    "    # ステレオ音声用（2チャンネル×最大長）の空配列をゼロ初期化で作成\n",
    "    stereo = np.zeros((2, max_len), dtype=np.float32)\n",
    "    \n",
    "    pos = 0\n",
    "    for i, wav in enumerate(wav_data):\n",
    "        ch = i%2  # 0:左(A), 1:右(B)\n",
    "        stereo[ch, pos:pos+len(wav)] += wav\n",
    "        pos += len(wav)\n",
    "    \n",
    "    # 転置(-1,2)する\n",
    "    stereo = stereo.T\n",
    "    return stereo"
   ]
  },
  {
   "cell_type": "markdown",
   "id": "1aa95302-64ba-4175-ab42-4939b02ee1be",
   "metadata": {},
   "source": [
    "## mfa(montreal force alignment)による音声アラインメント"
   ]
  },
  {
   "cell_type": "code",
   "execution_count": 21,
   "id": "4cb4f6bb-5c7e-4a70-8a8a-34276924a55d",
   "metadata": {},
   "outputs": [],
   "source": [
    "import MeCab\n",
    "import re\n",
    "\n",
    "# 句読点のパターン\n",
    "PUNCT_RE = re.compile(r'^[。、,.!?！？…]+$')\n",
    "\n",
    "def tokenize_text(text, is_punct_isolated=False):\n",
    "    tokens = []\n",
    "    punct_array = []\n",
    "    checked_punct_pos = 0\n",
    "    try:\n",
    "        # MeCabのタガーを初期化\n",
    "        tagger = MeCab.Tagger()\n",
    "\n",
    "        # MeCabは内部でShift-JISやEUC-JPを期待することがあるため、\n",
    "        # UnicodeDecodeErrorを避けるために明示的にUTF-8でエンコード・デコードする\n",
    "        # parseToNodeは、より詳細な情報をノードオブジェクトとして取得できるメソッド\n",
    "        node = tagger.parseToNode(text)\n",
    "        while node:\n",
    "            if not node.surface:\n",
    "                pass\n",
    "                \n",
    "            elif not is_punct_isolated and PUNCT_RE.match(node.surface) and tokens:\n",
    "                punct_array.append([checked_punct_pos, node.surface])\n",
    "                \n",
    "                checked_punct_pos += len(node.surface)\n",
    "                # 句読点なら直前のトークンに連結\n",
    "                tokens[-1] += node.surface\n",
    "            else:\n",
    "                checked_punct_pos += len(node.surface)\n",
    "                \n",
    "                # 通常トークンはそのまま追加\n",
    "                tokens.append(node.surface)\n",
    "            node = node.next\n",
    "    except RuntimeError as e:\n",
    "        print(f\"MeCabの実行中にエラーが発生しました: {e}\", file=sys.stderr)\n",
    "        \n",
    "    return tokens, punct_array"
   ]
  },
  {
   "cell_type": "code",
   "execution_count": 22,
   "id": "7d7c04cc-e177-4fa4-a03d-80d7f29a80b9",
   "metadata": {},
   "outputs": [],
   "source": [
    "def generate_txt_file_using_mecab(input_txt, path):\n",
    "    tokens, punct_dict = tokenize_text(input_txt)\n",
    "    output = \"\"\n",
    "    for token in tokens:\n",
    "        output += token + \"\\n\"\n",
    "        \n",
    "    with open(path, \"w\", encoding=\"utf-8\") as f:\n",
    "        f.write(output)\n",
    "    return tokens, punct_dict"
   ]
  },
  {
   "cell_type": "code",
   "execution_count": 47,
   "id": "c35f5808-0d65-4ef7-89d9-ced5889c6638",
   "metadata": {},
   "outputs": [
    {
     "name": "stdout",
     "output_type": "stream",
     "text": [
      "<unk>\n"
     ]
    }
   ],
   "source": [
    "import re\n",
    "\n",
    "m = re.search(r\"<unk>|<sil>\", r\"あ<unk>えお\")\n",
    "print(m.group())"
   ]
  },
  {
   "cell_type": "code",
   "execution_count": 30,
   "id": "09aaef40-fca0-46e3-96b2-0c04a1ff984a",
   "metadata": {},
   "outputs": [],
   "source": [
    "from os.path import join, expanduser\n",
    "import subprocess\n",
    "import json\n",
    "import re\n",
    "\n",
    "SPEAKER_LABELS = [\"A\", \"B\"]\n",
    "\n",
    "def alignment_channel(channel, txt, target_dir_name):\n",
    "    input_dir_path = join(mfa_input_dir, target_dir_name)\n",
    "    output_dir_path = join(mfa_output_dir, target_dir_name)\n",
    "    os.makedirs(input_dir_path, exist_ok=True)\n",
    "    os.makedirs(output_dir_path, exist_ok=True)\n",
    "    \n",
    "    for_align_audio_path = join(input_dir_path, f\"{target_dir_name}.wav\")\n",
    "    for_align_txt_path = join(input_dir_path, f\"{target_dir_name}.txt\")\n",
    "\n",
    "    sf.write(for_align_audio_path, channel, setting_sr)\n",
    "    _, punct_array = generate_txt_file_using_mecab(txt, for_align_txt_path)\n",
    "    subprocess.run([\n",
    "        \"mfa\",\n",
    "        \"align\",\n",
    "        input_dir_path,\n",
    "        \"japanese_mfa\",\n",
    "        model_dir,\n",
    "        output_dir_path,\n",
    "        \"--quiet\",\n",
    "        \"--overwrite\",\n",
    "        \"--clean\",\n",
    "        \"--final_clean\",\n",
    "        \"--output_format\", \"json\",\n",
    "        \"--beam\", \"1000\",\n",
    "        \"--retry_beam\", \"4000\",\n",
    "    ])\n",
    "    return punct_array\n",
    "\n",
    "def add_punct(align_json, punct_array):\n",
    "    segments = align_json[\"tiers\"][\"words\"][\"entries\"]\n",
    "    print(\"------- before -------\")\n",
    "    print(segments[:20])\n",
    "    checked_len = 0\n",
    "    punct_idx = 0\n",
    "    target_punct = punct_array[punct_idx]\n",
    "    for idx in range(len(segments)):\n",
    "        checked_len += segments[idx][2]\n",
    "        if target_punct[0] == checked_len - 1:\n",
    "            segments[idx][2] += target_punct[1]\n",
    "            punct_idx += 1\n",
    "            target_punct = punct_array[punct_idx]\n",
    "    print(\"------- after -------\")\n",
    "    print(segments[:20])\n",
    "    return align_json\n",
    "\n",
    "def correct_text(full_text, align_json):\n",
    "    text_list = [segment[2] for segment in align_json[\"tiers\"][\"words\"][\"entries\"]]\n",
    "    checked_len = 0\n",
    "    for text in text_list:\n",
    "        if re.fullmatch(f\"^{text}.*\", full_text):\n",
    "            checked_len += len(text)\n",
    "            full_text = full_text[:checked_len]\n",
    "        else:\n",
    "            if re.search(r\"<unk>|<sil>\", text):\n",
    "                m = re.search(r\"<unk>|<sil>\", text)\n",
    "                matched_text = m.group()\n",
    "                re.sub(matched_text, \"\", text)\n",
    "\n",
    "def parse_ft_json(json_list):\n",
    "    result = []\n",
    "    for i in range(len(json_list)):\n",
    "\n",
    "    segments = json_data[i][\"tiers\"][\"words\"][\"entries\"]\n",
    "    for segment in segments:\n",
    "        json.append({\n",
    "            \"speaker\": SPEAKER_LABEL[i],\n",
    "            \"word\": segment[2],\n",
    "            \"start\": segment[0],\n",
    "            \"end\": segment[1],\n",
    "        })\n",
    "    sorted_result = sorted(result, key=lambda seg: seg[\"start\"])\n",
    "    return sorted_result\n",
    "\n",
    "def lst_to_line_str(lst):\n",
    "    result = \"\"\n",
    "    for s in lst:\n",
    "        result += s\n",
    "    return result\n",
    "\n",
    "def alignment_audio_dialogue(text_dialogue_list, audio_path, idx):\n",
    "    json_list = []\n",
    "    audio, sr = sf.read(audio_path)\n",
    "    for i in range(len(SPEAKER_LABELS)):\n",
    "        channel = audio[:, i]\n",
    "        \n",
    "        text_list = []\n",
    "        for text_dial in text_dialogue_list:\n",
    "            if text_dial.speaker == SPEAKER_LABELS[i]\n",
    "                text_list.append(text_dial.text)\n",
    "            \n",
    "        speaker_full_text = lst_to_line_str(text_list)\n",
    "        target_dir_name = f\"{SPEAKER_LABELS[i]}{idx}\"\n",
    "        punct_array = alignment_channel(channel, speaker_full_txt, target_dir_name)\n",
    "        \n",
    "        json_path = join(mfa_output_dir, target_dir_name, f\"{target_dir_name}.json\")\n",
    "        with open(json_path, \"r\") as f:\n",
    "            json_data = json.load(f)\n",
    "        json_data = add_punct(json_data, punct_array)\n",
    "        json_list.append(json_data)\n",
    "        \n",
    "    ft_json = parse_ft_json(json_list)\n",
    "    return ft_json"
   ]
  },
  {
   "cell_type": "markdown",
   "id": "21b917fe-46ac-43a6-a5e7-c9903095616a",
   "metadata": {},
   "source": [
    "## フォルダ初期化"
   ]
  },
  {
   "cell_type": "code",
   "execution_count": 24,
   "id": "17a8d44f-adba-483e-9d5d-65dae116d409",
   "metadata": {},
   "outputs": [],
   "source": [
    "import re\n",
    "\n",
    "def get_file_name():\n",
    "    wav_file_pattern = r\"^(\\d+)\\.wav$\"\n",
    "    num = -1\n",
    "    for file in os.listdir(audio_dir_path):\n",
    "        if not os.path.exists(os.path.join(audio_dir_path, file)):\n",
    "            continue\n",
    "        if not re.match(wav_file_pattern, file):\n",
    "            continue\n",
    "    \n",
    "        match_obj = re.match(wav_file_pattern, file)\n",
    "        get_number = int(match_obj.groups()[0])\n",
    "    \n",
    "        if num < get_number:\n",
    "            num = get_number\n",
    "    return num"
   ]
  },
  {
   "cell_type": "code",
   "execution_count": 25,
   "id": "4895d7b4-d9e6-43c3-b4b6-d21b0d4eac50",
   "metadata": {
    "scrolled": true
   },
   "outputs": [],
   "source": [
    "from glob import glob\n",
    "import shutil\n",
    "\n",
    "def delete_files(dir_path):\n",
    "    shutil.rmtree(dir_path)\n",
    "    os.makedirs(dir_path)\n",
    "\n",
    "if IS_REMOVE_EXIST_FILE:\n",
    "    file_name_num = -1\n",
    "    for dir_path in base_paths:\n",
    "        delete_files(dir_path)\n",
    "else:\n",
    "    file_name_num = get_file_name()"
   ]
  },
  {
   "cell_type": "markdown",
   "id": "e535afd9-ad91-43af-a583-32cf4525864e",
   "metadata": {},
   "source": [
    "## メイン処理"
   ]
  },
  {
   "cell_type": "code",
   "execution_count": 32,
   "id": "92baf05a-d14e-4a4b-8f3d-98bdc5043914",
   "metadata": {
    "scrolled": true
   },
   "outputs": [
    {
     "name": "stdout",
     "output_type": "stream",
     "text": [
      "あなたがこれから音声合成するテキストは以下の対話内容のワンフレーズです。\n",
      "この対話の文脈に合うように音声合成してください。\n",
      "\n",
      "<対話内容の全文>\n",
      "A: 〇〇さん、こんにちは。今日はこれまでのセッションを少し振り返ってみながら、今後のお話もできたらと思うのですが、いかがでしょうか？\n",
      "B: はい、大丈夫です。もうそんな時期なんですね。あっという間でした。\n",
      "A: ええ、そうですね。〇〇さんが最初にいらした頃、漠然とした不安や仕事での悩みを抱えていらっしゃいましたね。あれから、ずいぶん色々なことをお話ししてきましたね。\n",
      "B: はい。まさか、自分がこんなに変われるとは思っていなかったです。以前は本当に毎日が辛くて、どうしたらいいか分からなかったんですけど…。\n",
      "A: そうなんですね。何か、特に印象に残っていることや、ご自身で「これは変わったな」と感じることはありますか？\n",
      "B: うーん、そうですね…。やっぱり、自分の感情と行動のつながりを理解できたことが大きいです。以前は、不安になるとすぐ動けなくなってしまっていましたが、最近は「これは不安を感じているんだな」って客観的に見られるようになりました。\n",
      "A: なるほど、素晴らしい気づきですね。ご自身の感情を客観的に捉えられるようになった、と。それは大きな変化ですね。\n",
      "B: はい。おかげで、無理に頑張りすぎずに、少し休憩するとか、誰かに相談してみるとか、違う選択肢も考えられるようになりました。以前はそういう発想すらなくて。\n",
      "A: ええ、以前は一つの選択肢に縛られがちでしたものね。ご自身の変化を、〇〇さんがご自身で感じられているというのは、本当に素晴らしいことです。\n",
      "B: ありがとうございます。でも、まだ完全に不安がなくなったわけではないので、少し心配な気持ちもあります。\n",
      "A: そうですね。不安がなくなる、ということではなく、不安とどう向き合っていくか、という視点が大切でしたね。今、〇〇さんには、ご自身でその対処法を見つける力が備わってきていると感じます。これからも、このセッションで得た学びを、ぜひ日常の中で活かしていってくださいね。\n",
      "B: はい、頑張ります。\n",
      "A: ええ。今日はここまでにしましょうか。次回のセッションで、また少し今後について具体的に考えていきましょう。何かご不明な点はありませんか？\n",
      "B: いいえ、大丈夫です。ありがとうございました。\n",
      "A: はい、こちらこそ。また来週、お待ちしていますね。\n",
      "\u001b[32m10-26 00:51:04\u001b[0m |\u001b[1m  INFO  \u001b[0m| tts_model.py:259 | Start generating audio data from text:\n",
      "〇〇さん、こんにちは。今日はこれまでのセッションを少し振り返ってみながら、今後のお話もできたらと思うのですが、いかがでしょうか？\n",
      "\u001b[32m10-26 00:51:05\u001b[0m |\u001b[1m  INFO  \u001b[0m| tts_model.py:324 | Audio data generated successfully\n",
      "\u001b[32m10-26 00:51:05\u001b[0m |\u001b[1m  INFO  \u001b[0m| tts_model.py:259 | Start generating audio data from text:\n",
      "はい、大丈夫です。もうそんな時期なんですね。あっという間でした。\n",
      "\u001b[32m10-26 00:51:05\u001b[0m |\u001b[1m  INFO  \u001b[0m| tts_model.py:324 | Audio data generated successfully\n",
      "\u001b[32m10-26 00:51:05\u001b[0m |\u001b[1m  INFO  \u001b[0m| tts_model.py:259 | Start generating audio data from text:\n",
      "ええ、そうですね。〇〇さんが最初にいらした頃、漠然とした不安や仕事での悩みを抱えていらっしゃいましたね。あれから、ずいぶん色々なことをお話ししてきましたね。\n",
      "\u001b[32m10-26 00:51:06\u001b[0m |\u001b[1m  INFO  \u001b[0m| tts_model.py:324 | Audio data generated successfully\n",
      "\u001b[32m10-26 00:51:06\u001b[0m |\u001b[1m  INFO  \u001b[0m| tts_model.py:259 | Start generating audio data from text:\n",
      "はい。まさか、自分がこんなに変われるとは思っていなかったです。以前は本当に毎日が辛くて、どうしたらいいか分からなかったんですけど…。\n",
      "\u001b[32m10-26 00:51:06\u001b[0m |\u001b[1m  INFO  \u001b[0m| tts_model.py:324 | Audio data generated successfully\n",
      "\u001b[32m10-26 00:51:06\u001b[0m |\u001b[1m  INFO  \u001b[0m| tts_model.py:259 | Start generating audio data from text:\n",
      "そうなんですね。何か、特に印象に残っていることや、ご自身で「これは変わったな」と感じることはありますか？\n",
      "\u001b[32m10-26 00:51:06\u001b[0m |\u001b[1m  INFO  \u001b[0m| tts_model.py:324 | Audio data generated successfully\n",
      "\u001b[32m10-26 00:51:06\u001b[0m |\u001b[1m  INFO  \u001b[0m| tts_model.py:259 | Start generating audio data from text:\n",
      "うーん、そうですね…。やっぱり、自分の感情と行動のつながりを理解できたことが大きいです。以前は、不安になるとすぐ動けなくなってしまっていましたが、最近は「これは不安を感じているんだな」って客観的に見られるようになりました。\n",
      "\u001b[32m10-26 00:51:07\u001b[0m |\u001b[1m  INFO  \u001b[0m| tts_model.py:324 | Audio data generated successfully\n",
      "\u001b[32m10-26 00:51:07\u001b[0m |\u001b[1m  INFO  \u001b[0m| tts_model.py:259 | Start generating audio data from text:\n",
      "なるほど、素晴らしい気づきですね。ご自身の感情を客観的に捉えられるようになった、と。それは大きな変化ですね。\n",
      "\u001b[32m10-26 00:51:07\u001b[0m |\u001b[1m  INFO  \u001b[0m| tts_model.py:324 | Audio data generated successfully\n",
      "\u001b[32m10-26 00:51:07\u001b[0m |\u001b[1m  INFO  \u001b[0m| tts_model.py:259 | Start generating audio data from text:\n",
      "はい。おかげで、無理に頑張りすぎずに、少し休憩するとか、誰かに相談してみるとか、違う選択肢も考えられるようになりました。以前はそういう発想すらなくて。\n",
      "\u001b[32m10-26 00:51:07\u001b[0m |\u001b[1m  INFO  \u001b[0m| tts_model.py:324 | Audio data generated successfully\n",
      "\u001b[32m10-26 00:51:07\u001b[0m |\u001b[1m  INFO  \u001b[0m| tts_model.py:259 | Start generating audio data from text:\n",
      "ええ、以前は一つの選択肢に縛られがちでしたものね。ご自身の変化を、〇〇さんがご自身で感じられているというのは、本当に素晴らしいことです。\n",
      "\u001b[32m10-26 00:51:07\u001b[0m |\u001b[1m  INFO  \u001b[0m| tts_model.py:324 | Audio data generated successfully\n",
      "\u001b[32m10-26 00:51:07\u001b[0m |\u001b[1m  INFO  \u001b[0m| tts_model.py:259 | Start generating audio data from text:\n",
      "ありがとうございます。でも、まだ完全に不安がなくなったわけではないので、少し心配な気持ちもあります。\n",
      "\u001b[32m10-26 00:51:08\u001b[0m |\u001b[1m  INFO  \u001b[0m| tts_model.py:324 | Audio data generated successfully\n",
      "\u001b[32m10-26 00:51:08\u001b[0m |\u001b[1m  INFO  \u001b[0m| tts_model.py:259 | Start generating audio data from text:\n",
      "そうですね。不安がなくなる、ということではなく、不安とどう向き合っていくか、という視点が大切でしたね。今、〇〇さんには、ご自身でその対処法を見つける力が備わってきていると感じます。これからも、このセッションで得た学びを、ぜひ日常の中で活かしていってくださいね。\n",
      "\u001b[32m10-26 00:51:08\u001b[0m |\u001b[1m  INFO  \u001b[0m| tts_model.py:324 | Audio data generated successfully\n",
      "\u001b[32m10-26 00:51:08\u001b[0m |\u001b[1m  INFO  \u001b[0m| tts_model.py:259 | Start generating audio data from text:\n",
      "はい、頑張ります。\n",
      "\u001b[32m10-26 00:51:09\u001b[0m |\u001b[1m  INFO  \u001b[0m| tts_model.py:324 | Audio data generated successfully\n",
      "\u001b[32m10-26 00:51:09\u001b[0m |\u001b[1m  INFO  \u001b[0m| tts_model.py:259 | Start generating audio data from text:\n",
      "ええ。今日はここまでにしましょうか。次回のセッションで、また少し今後について具体的に考えていきましょう。何かご不明な点はありませんか？\n",
      "\u001b[32m10-26 00:51:09\u001b[0m |\u001b[1m  INFO  \u001b[0m| tts_model.py:324 | Audio data generated successfully\n",
      "\u001b[32m10-26 00:51:09\u001b[0m |\u001b[1m  INFO  \u001b[0m| tts_model.py:259 | Start generating audio data from text:\n",
      "いいえ、大丈夫です。ありがとうございました。\n",
      "\u001b[32m10-26 00:51:09\u001b[0m |\u001b[1m  INFO  \u001b[0m| tts_model.py:324 | Audio data generated successfully\n",
      "\u001b[32m10-26 00:51:09\u001b[0m |\u001b[1m  INFO  \u001b[0m| tts_model.py:259 | Start generating audio data from text:\n",
      "はい、こちらこそ。また来週、お待ちしていますね。\n",
      "\u001b[32m10-26 00:51:09\u001b[0m |\u001b[1m  INFO  \u001b[0m| tts_model.py:324 | Audio data generated successfully\n"
     ]
    },
    {
     "name": "stderr",
     "output_type": "stream",
     "text": [
      "\u001b[2;36m \u001b[0m\u001b[32mINFO    \u001b[0m Setting up corpus information\u001b[33m...\u001b[0m                                      \n",
      "\u001b[2;36m \u001b[0m\u001b[32mINFO    \u001b[0m Loading corpus from source files\u001b[33m...\u001b[0m                                   \n",
      "\u001b[2;36m \u001b[0m\u001b[32mINFO    \u001b[0m Found \u001b[1;36m1\u001b[0m speaker across \u001b[1;36m1\u001b[0m file, average number of utterances per       \n",
      "\u001b[2;36m \u001b[0m         speaker: \u001b[1;36m1.0\u001b[0m                                                          \n",
      "\u001b[2;36m \u001b[0m\u001b[32mINFO    \u001b[0m Initializing multiprocessing jobs\u001b[33m...\u001b[0m                                  \n",
      "\u001b[2;36m \u001b[0m\u001b[33mWARNING \u001b[0m Number of jobs was specified as \u001b[1;36m3\u001b[0m, but due to only having \u001b[1;36m1\u001b[0m speakers, \n",
      "\u001b[2;36m \u001b[0m         MFA will only use \u001b[1;36m1\u001b[0m jobs. Use the --single_speaker flag if you would  \n",
      "\u001b[2;36m \u001b[0m         like to split utterances across jobs regardless of their speaker.     \n",
      "\u001b[2;36m \u001b[0m\u001b[32mINFO    \u001b[0m Normalizing text\u001b[33m...\u001b[0m                                                   \n",
      "\u001b[2;36m \u001b[0m\u001b[32mINFO    \u001b[0m Generating MFCCs\u001b[33m...\u001b[0m                                                   \n",
      "\u001b[2;36m \u001b[0m\u001b[32mINFO    \u001b[0m Calculating CMVN\u001b[33m...\u001b[0m                                                   \n",
      "\u001b[2;36m \u001b[0m\u001b[32mINFO    \u001b[0m Generating final features\u001b[33m...\u001b[0m                                          \n",
      "\u001b[2;36m \u001b[0m\u001b[32mINFO    \u001b[0m Creating corpus split\u001b[33m...\u001b[0m                                              \n",
      "\u001b[2;36m \u001b[0m\u001b[32mINFO    \u001b[0m Compiling training graphs\u001b[33m...\u001b[0m                                          \n",
      "\u001b[2;36m \u001b[0m\u001b[32mINFO    \u001b[0m Performing first-pass alignment\u001b[33m...\u001b[0m                                    \n",
      "\u001b[2;36m \u001b[0m\u001b[32mINFO    \u001b[0m Generating alignments\u001b[33m...\u001b[0m                                              \n",
      "\u001b[2;36m \u001b[0m\u001b[32mINFO    \u001b[0m Collecting phone and word alignments from alignment lattices\u001b[33m...\u001b[0m       \n",
      "\u001b[2;36m \u001b[0m\u001b[32mINFO    \u001b[0m Analyzing alignment quality\u001b[33m...\u001b[0m                                        \n",
      "\u001b[2;36m \u001b[0m\u001b[32mINFO    \u001b[0m Exporting alignment TextGrids to                                      \n",
      "\u001b[2;36m \u001b[0m         \u001b[35m/users/s1f102201582/Github/jmoshi-ft/gen_dialogue/data/sbv/mfa_output/\u001b[0m\n",
      "\u001b[2;36m \u001b[0m         \u001b[95mA_0...\u001b[0m                                                                \n",
      "\u001b[2;36m \u001b[0m\u001b[32mINFO    \u001b[0m Finished exporting TextGrids to                                       \n",
      "\u001b[2;36m \u001b[0m         \u001b[35m/users/s1f102201582/Github/jmoshi-ft/gen_dialogue/data/sbv/mfa_output/\u001b[0m\n",
      "\u001b[2;36m \u001b[0m         \u001b[95mA_0\u001b[0m!                                                                  \n",
      "\u001b[2;36m \u001b[0m\u001b[32mINFO    \u001b[0m Done! Everything took \u001b[1;36m143.222\u001b[0m seconds                                 \n",
      "\u001b[2;36m \u001b[0m\u001b[32mINFO    \u001b[0m Setting up corpus information\u001b[33m...\u001b[0m                                      \n",
      "\u001b[2;36m \u001b[0m\u001b[32mINFO    \u001b[0m Loading corpus from source files\u001b[33m...\u001b[0m                                   \n",
      "\u001b[2;36m \u001b[0m\u001b[32mINFO    \u001b[0m Found \u001b[1;36m1\u001b[0m speaker across \u001b[1;36m1\u001b[0m file, average number of utterances per       \n",
      "\u001b[2;36m \u001b[0m         speaker: \u001b[1;36m1.0\u001b[0m                                                          \n",
      "\u001b[2;36m \u001b[0m\u001b[32mINFO    \u001b[0m Initializing multiprocessing jobs\u001b[33m...\u001b[0m                                  \n",
      "\u001b[2;36m \u001b[0m\u001b[33mWARNING \u001b[0m Number of jobs was specified as \u001b[1;36m3\u001b[0m, but due to only having \u001b[1;36m1\u001b[0m speakers, \n",
      "\u001b[2;36m \u001b[0m         MFA will only use \u001b[1;36m1\u001b[0m jobs. Use the --single_speaker flag if you would  \n",
      "\u001b[2;36m \u001b[0m         like to split utterances across jobs regardless of their speaker.     \n",
      "\u001b[2;36m \u001b[0m\u001b[32mINFO    \u001b[0m Normalizing text\u001b[33m...\u001b[0m                                                   \n",
      "\u001b[2;36m \u001b[0m\u001b[32mINFO    \u001b[0m Generating MFCCs\u001b[33m...\u001b[0m                                                   \n",
      "\u001b[2;36m \u001b[0m\u001b[32mINFO    \u001b[0m Calculating CMVN\u001b[33m...\u001b[0m                                                   \n",
      "\u001b[2;36m \u001b[0m\u001b[32mINFO    \u001b[0m Generating final features\u001b[33m...\u001b[0m                                          \n",
      "\u001b[2;36m \u001b[0m\u001b[32mINFO    \u001b[0m Creating corpus split\u001b[33m...\u001b[0m                                              \n",
      "\u001b[2;36m \u001b[0m\u001b[32mINFO    \u001b[0m Compiling training graphs\u001b[33m...\u001b[0m                                          \n",
      "\u001b[2;36m \u001b[0m\u001b[32mINFO    \u001b[0m Performing first-pass alignment\u001b[33m...\u001b[0m                                    \n",
      "\u001b[2;36m \u001b[0m\u001b[32mINFO    \u001b[0m Generating alignments\u001b[33m...\u001b[0m                                              \n",
      "\u001b[2;36m \u001b[0m\u001b[32mINFO    \u001b[0m Collecting phone and word alignments from alignment lattices\u001b[33m...\u001b[0m       \n",
      "\u001b[2;36m \u001b[0m\u001b[32mINFO    \u001b[0m Analyzing alignment quality\u001b[33m...\u001b[0m                                        \n",
      "\u001b[2;36m \u001b[0m\u001b[32mINFO    \u001b[0m Exporting alignment TextGrids to                                      \n",
      "\u001b[2;36m \u001b[0m         \u001b[35m/users/s1f102201582/Github/jmoshi-ft/gen_dialogue/data/sbv/mfa_output/\u001b[0m\n",
      "\u001b[2;36m \u001b[0m         \u001b[95mB_0...\u001b[0m                                                                \n",
      "\u001b[2;36m \u001b[0m\u001b[32mINFO    \u001b[0m Finished exporting TextGrids to                                       \n",
      "\u001b[2;36m \u001b[0m         \u001b[35m/users/s1f102201582/Github/jmoshi-ft/gen_dialogue/data/sbv/mfa_output/\u001b[0m\n",
      "\u001b[2;36m \u001b[0m         \u001b[95mB_0\u001b[0m!                                                                  \n",
      "\u001b[2;36m \u001b[0m\u001b[32mINFO    \u001b[0m Done! Everything took \u001b[1;36m135.411\u001b[0m seconds                                 \n"
     ]
    },
    {
     "name": "stdout",
     "output_type": "stream",
     "text": [
      "[[0.0, 0.03999999910593033, '〇'], [0.03999999910593033, 0.5, 'さん'], [0.5699999928474426, 1.2999999523162842, 'こんにちは'], [1.7300000190734863, 1.9900000095367432, '今日'], [1.9900000095367432, 2.140000104904175, 'は'], [2.140000104904175, 2.4700000286102295, 'これ'], [2.4700000286102295, 2.740000009536743, 'まで'], [2.740000009536743, 2.869999885559082, 'の'], [2.869999885559082, 3.299999952316284, 'セッション'], [3.299999952316284, 3.4000000953674316, 'を'], [3.4000000953674316, 3.809999942779541, '少し'], [3.809999942779541, 4.099999904632568, '<unk>'], [4.400000095367432, 4.519999980926514, 'て'], [4.519999980926514, 4.670000076293945, 'み'], [4.670000076293945, 5.130000114440918, 'ながら'], [5.489999771118164, 5.940000057220459, '今後'], [5.940000057220459, 6.070000171661377, 'の'], [6.070000171661377, 6.110000133514404, 'お'], [6.110000133514404, 6.510000228881836, '話'], [6.510000228881836, 6.639999866485596, 'も'], [6.639999866485596, 6.880000114440918, 'でき'], [6.880000114440918, 7.159999847412109, 'たら'], [7.159999847412109, 7.349999904632568, 'と'], [7.349999904632568, 7.619999885559082, '思う'], [7.619999885559082, 7.760000228881836, 'の'], [7.760000228881836, 8.020000457763672, 'です'], [8.020000457763672, 8.199999809265137, 'が'], [8.59000015258789, 9.050000190734863, 'いかが'], [9.050000190734863, 9.3100004196167, 'でしょう'], [15.420000076293945, 15.600000381469727, 'か'], [15.600000381469727, 15.680000305175781, 'ええ'], [15.680000305175781, 15.970000267028809, 'そう'], [15.970000267028809, 16.209999084472656, 'です'], [16.209999084472656, 16.3799991607666, 'ね'], [16.3799991607666, 16.65999984741211, 'さん'], [16.65999984741211, 16.799999237060547, 'が'], [16.799999237060547, 17.25, '最初'], [17.25, 17.40999984741211, 'に'], [17.40999984741211, 17.65999984741211, 'いらし'], [17.65999984741211, 17.780000686645508, 'た'], [17.780000686645508, 18.06999969482422, '頃'], [18.389999389648438, 18.950000762939453, '漠然'], [18.950000762939453, 19.09000015258789, 'と'], [19.09000015258789, 19.15999984741211, 'し'], [19.15999984741211, 19.31999969482422, 'た'], [19.31999969482422, 19.639999389648438, '不安'], [19.639999389648438, 19.790000915527344, 'や'], [19.790000915527344, 20.25, '仕事'], [20.25, 20.3700008392334, 'で'], [20.3700008392334, 20.479999542236328, 'の'], [20.479999542236328, 20.920000076293945, '悩み'], [20.920000076293945, 21.0, 'を'], [21.0, 21.3799991607666, '抱え'], [21.3799991607666, 21.549999237060547, 'て'], [21.549999237060547, 22.030000686645508, 'いらっしゃい'], [22.030000686645508, 22.25, 'まし'], [22.25, 22.399999618530273, 'た'], [22.399999618530273, 22.760000228881836, 'ね'], [22.850000381469727, 23.170000076293945, 'あれ'], [23.170000076293945, 23.5, 'から'], [23.639999389648438, 24.209999084472656, 'ずいぶん'], [24.209999084472656, 24.6200008392334, '色々'], [24.6200008392334, 24.770000457763672, 'な'], [24.770000457763672, 25.100000381469727, 'こと'], [25.100000381469727, 25.1299991607666, 'を'], [25.1299991607666, 25.170000076293945, 'お'], [25.170000076293945, 25.6299991607666, '話し'], [25.6299991607666, 25.690000534057617, 'し'], [25.690000534057617, 25.84000015258789, 'て'], [25.84000015258789, 25.979999542236328, 'き'], [25.979999542236328, 26.219999313354492, 'まし'], [26.219999313354492, 26.350000381469727, 'た'], [26.350000381469727, 26.6299991607666, 'ね'], [37.400001525878906, 37.779998779296875, 'そう'], [37.779998779296875, 37.939998626708984, 'な'], [37.939998626708984, 38.0, 'ん'], [38.0, 38.22999954223633, 'です'], [38.22999954223633, 38.45000076293945, 'ね'], [38.47999954223633, 38.810001373291016, '何'], [38.810001373291016, 39.02000045776367, 'か'], [39.36000061035156, 39.779998779296875, '特に'], [39.779998779296875, 40.15999984741211, '印象'], [40.15999984741211, 40.29999923706055, 'に'], [40.560001373291016, 40.59000015258789, '残っ'], [40.59000015258789, 40.83000183105469, 'て'], [40.83000183105469, 40.9900016784668, 'いる'], [40.9900016784668, 41.25, 'こと'], [41.25, 41.45000076293945, 'や'], [41.869998931884766, 42.06999969482422, 'ご'], [42.06999969482422, 42.470001220703125, '自身'], [42.470001220703125, 42.599998474121094, 'で'], [42.599998474121094, 42.95000076293945, 'これ'], [42.95000076293945, 43.08000183105469, 'は'], [43.08000183105469, 43.45000076293945, '変わっ'], [43.45000076293945, 43.630001068115234, 'た'], [43.630001068115234, 43.790000915527344, 'な'], [43.790000915527344, 43.9900016784668, 'と'], [43.9900016784668, 44.47999954223633, '感じる'], [44.47999954223633, 44.70000076293945, 'こと'], [44.70000076293945, 44.88999938964844, 'は'], [44.88999938964844, 45.099998474121094, 'あり'], [45.099998474121094, 45.34000015258789, 'ます'], [45.34000015258789, 45.5099983215332, 'か'], [62.709999084472656, 63.349998474121094, 'なるほど'], [63.349998474121094, 64.04000091552734, '素晴らしい'], [64.04000091552734, 64.4800033569336, '気づき'], [64.4800033569336, 64.72000122070312, 'です'], [64.72000122070312, 65.22000122070312, 'ね'], [65.2699966430664, 65.45999908447266, 'ご'], [65.45999908447266, 65.8499984741211, '自身'], [65.8499984741211, 66.0, 'の'], [66.0, 66.41999816894531, '感情'], [66.41999816894531, 66.4800033569336, 'を'], [66.4800033569336, 67.01000213623047, '客観'], [67.01000213623047, 67.27999877929688, '的'], [67.27999877929688, 67.41999816894531, 'に'], [67.41999816894531, 67.76000213623047, '捉え'], [67.76000213623047, 68.0999984741211, 'られる'], [68.0999984741211, 68.30999755859375, 'よう'], [68.30999755859375, 68.44000244140625, 'に'], [68.44000244140625, 68.62999725341797, 'なっ'], [68.62999725341797, 68.77999877929688, 'た'], [69.05999755859375, 69.30000305175781, 'と'], [69.30000305175781, 69.68000030517578, 'それ'], [69.68000030517578, 69.95999908447266, 'は'], [69.95999908447266, 70.33000183105469, '大きな'], [70.33000183105469, 70.7300033569336, '変化'], [70.7300033569336, 70.95999908447266, 'です'], [70.95999908447266, 71.2699966430664, 'ね'], [85.20999908447266, 85.36000061035156, 'ええ'], [85.36000061035156, 85.62000274658203, '以前'], [85.62000274658203, 85.76000213623047, 'は'], [85.76000213623047, 86.01000213623047, '一'], [86.01000213623047, 86.13999938964844, 'つ'], [86.13999938964844, 86.2699966430664, 'の'], [86.2699966430664, 86.80000305175781, '選択'], [86.80000305175781, 86.95999908447266, '肢'], [86.95999908447266, 87.08999633789062, 'に'], [87.08999633789062, 87.52999877929688, '縛ら'], [87.52999877929688, 87.6500015258789, 'れ'], [87.6500015258789, 87.91000366210938, 'がち'], [87.91000366210938, 88.12999725341797, 'でし'], [88.12999725341797, 88.26000213623047, 'た'], [88.26000213623047, 88.5199966430664, 'もの'], [88.5199966430664, 88.93000030517578, 'ね'], [88.97000122070312, 89.16000366210938, 'ご'], [89.16000366210938, 89.55999755859375, '自身'], [89.55999755859375, 89.69000244140625, 'の'], [89.69000244140625, 90.20999908447266, '変化'], [90.20999908447266, 90.2699966430664, 'を'], [90.2699966430664, 90.5999984741211, 'さん'], [90.5999984741211, 90.73999786376953, 'が'], [90.73999786376953, 90.91999816894531, 'ご'], [90.91999816894531, 91.30999755859375, '自身'], [91.30999755859375, 91.44000244140625, 'で'], [91.44000244140625, 91.81999969482422, '感じ'], [91.81999969482422, 92.05999755859375, 'られ'], [92.05999755859375, 92.25, 'て'], [92.25, 92.41000366210938, 'いる'], [92.41000366210938, 92.55999755859375, 'と'], [92.55999755859375, 92.76000213623047, 'いう'], [92.76000213623047, 92.87999725341797, 'の'], [92.87999725341797, 93.18000030517578, 'は'], [93.18000030517578, 93.70999908447266, '本当'], [93.70999908447266, 93.8499984741211, 'に'], [93.8499984741211, 94.5, '素晴らしい'], [94.5, 94.79000091552734, 'こと'], [94.79000091552734, 95.1500015258789, 'です'], [103.47000122070312, 103.80999755859375, 'そう'], [103.80999755859375, 104.05999755859375, 'です'], [104.05999755859375, 104.4800033569336, 'ね'], [104.55000305175781, 104.91000366210938, '不安'], [104.91000366210938, 105.04000091552734, 'が'], [105.04000091552734, 105.5999984741211, 'なくなる'], [105.5999984741211, 105.93000030517578, 'と'], [105.93000030517578, 106.1500015258789, 'いう'], [106.1500015258789, 106.43000030517578, 'こと'], [106.43000030517578, 106.55000305175781, 'で'], [106.55000305175781, 106.69999694824219, 'は'], [106.69999694824219, 107.04000091552734, 'なく'], [107.4000015258789, 107.81999969482422, '不安'], [107.81999969482422, 107.95999908447266, 'と'], [107.95999908447266, 108.08999633789062, 'どう'], [108.08999633789062, 108.56999969482422, '向き合っ'], [108.56999969482422, 108.76000213623047, 'て'], [108.76000213623047, 109.0, 'いく'], [109.0, 109.3499984741211, 'か'], [109.44999694824219, 109.58999633789062, 'と'], [109.58999633789062, 109.83999633789062, 'いう'], [109.83999633789062, 110.13999938964844, '視点'], [110.13999938964844, 110.27999877929688, 'が'], [110.27999877929688, 110.80999755859375, '大切'], [110.80999755859375, 111.02999877929688, 'でし'], [111.02999877929688, 111.16999816894531, 'た'], [111.16999816894531, 111.38999938964844, 'ね'], [111.41999816894531, 111.76000213623047, '今'], [111.76000213623047, 112.16000366210938, 'さん'], [112.16000366210938, 112.2699966430664, 'に'], [112.2699966430664, 112.4800033569336, 'は'], [112.8499984741211, 113.02999877929688, 'ご'], [113.02999877929688, 113.41000366210938, '自身'], [113.41000366210938, 113.52999877929688, 'で'], [113.52999877929688, 113.83000183105469, 'その'], [113.83000183105469, 114.29000091552734, '対処'], [114.29000091552734, 114.5, '法'], [114.5, 114.58000183105469, 'を'], [114.58000183105469, 115.12000274658203, '見つける'], [115.12000274658203, 115.54000091552734, '力'], [115.54000091552734, 115.63999938964844, 'が'], [115.63999938964844, 116.1500015258789, '備わっ'], [116.1500015258789, 116.33000183105469, 'て'], [116.33000183105469, 116.41999816894531, 'き'], [116.41999816894531, 116.58000183105469, 'て'], [116.58000183105469, 116.79000091552734, 'いる'], [116.79000091552734, 116.93000030517578, 'と'], [116.93000030517578, 117.29000091552734, '感じ'], [117.29000091552734, 117.6500015258789, 'ます'], [117.97000122070312, 118.30000305175781, 'これ'], [118.30000305175781, 118.54000091552734, 'から'], [118.54000091552734, 118.72000122070312, 'も'], [119.08000183105469, 119.41000366210938, 'この'], [119.41000366210938, 119.91999816894531, 'セッション'], [119.91999816894531, 120.05999755859375, 'で'], [120.05999755859375, 120.1500015258789, '得'], [120.1500015258789, 120.2699966430664, 'た'], [120.2699966430664, 120.72000122070312, '学び'], [120.72000122070312, 120.88999938964844, 'を'], [120.88999938964844, 121.29000091552734, 'ぜひ'], [121.29000091552734, 121.77999877929688, '日常'], [121.77999877929688, 121.91000366210938, 'の'], [121.91000366210938, 122.19999694824219, '中'], [122.19999694824219, 122.31999969482422, 'で'], [122.31999969482422, 122.6500015258789, '活かし'], [122.6500015258789, 122.80000305175781, 'て'], [122.80000305175781, 122.93000030517578, 'いっ'], [122.93000030517578, 123.11000061035156, 'て'], [123.11000061035156, 123.62999725341797, 'ください'], [123.62999725341797, 123.94999694824219, 'ね'], [126.02999877929688, 126.23999786376953, 'ええ'], [126.61000061035156, 126.86000061035156, '今日'], [126.86000061035156, 127.0199966430664, 'は'], [127.0199966430664, 127.37000274658203, 'ここ'], [127.37000274658203, 127.6500015258789, 'まで'], [127.6500015258789, 127.7699966430664, 'に'], [127.7699966430664, 127.93000030517578, 'し'], [127.93000030517578, 128.3000030517578, 'ましょう'], [128.3000030517578, 128.63999938964844, 'か'], [128.91000366210938, 129.41000366210938, '次回'], [129.41000366210938, 129.55999755859375, 'の'], [129.55999755859375, 130.07000732421875, 'セッション'], [130.07000732421875, 130.25999450683594, 'で'], [130.42999267578125, 130.80999755859375, 'また'], [130.80999755859375, 131.1699981689453, '少し'], [131.1699981689453, 131.5500030517578, '今後'], [131.5500030517578, 131.69000244140625, 'に'], [131.69000244140625, 131.92999267578125, 'つい'], [131.92999267578125, 132.07000732421875, 'て'], [132.07000732421875, 132.47999572753906, '具体'], [132.47999572753906, 132.74000549316406, '的'], [132.74000549316406, 132.8699951171875, 'に'], [132.8699951171875, 133.30999755859375, '考え'], [133.30999755859375, 133.4600067138672, 'て'], [133.4600067138672, 133.6999969482422, 'いき'], [133.6999969482422, 134.13999938964844, 'ましょう'], [134.1699981689453, 134.5, '何'], [134.5, 134.66000366210938, 'か'], [134.66000366210938, 134.83999633789062, 'ご'], [134.83999633789062, 135.1699981689453, '不明'], [135.1699981689453, 135.30999755859375, 'な'], [135.30999755859375, 135.52999877929688, '点'], [135.52999877929688, 135.64999389648438, 'は'], [135.64999389648438, 135.83999633789062, 'あり'], [135.83999633789062, 136.1300048828125, 'ませ'], [136.1300048828125, 136.2100067138672, 'ん'], [136.2100067138672, 136.55999755859375, 'か'], [140.5500030517578, 140.9499969482422, 'はい'], [141.02000427246094, 141.52999877929688, 'こちら'], [141.52999877929688, 141.83999633789062, 'こそ'], [141.83999633789062, 142.17999267578125, 'また'], [142.17999267578125, 142.5500030517578, '来週'], [143.0, 143.13999938964844, 'お'], [143.13999938964844, 143.50999450683594, '待ち'], [143.50999450683594, 143.55999755859375, 'し'], [143.55999755859375, 143.6999969482422, 'て'], [143.6999969482422, 143.7899932861328, 'い'], [143.7899932861328, 144.05999755859375, 'ます'], [144.05999755859375, 144.3699951171875, 'ね']]\n",
      "[[0.0, 0.03999999910593033, '〇'], [0.03999999910593033, 0.5, 'さん'], [0.5699999928474426, 1.2999999523162842, 'こんにちは'], [1.7300000190734863, 1.9900000095367432, '今日'], [1.9900000095367432, 2.140000104904175, 'は'], [2.140000104904175, 2.4700000286102295, 'これ'], [2.4700000286102295, 2.740000009536743, 'まで'], [2.740000009536743, 2.869999885559082, 'の'], [2.869999885559082, 3.299999952316284, 'セッション'], [3.299999952316284, 3.4000000953674316, 'を'], [3.4000000953674316, 3.809999942779541, '少し'], [3.809999942779541, 4.099999904632568, '<unk>'], [4.400000095367432, 4.519999980926514, 'て'], [4.519999980926514, 4.670000076293945, 'み'], [4.670000076293945, 5.130000114440918, 'ながら'], [5.489999771118164, 5.940000057220459, '今後'], [5.940000057220459, 6.070000171661377, 'の'], [6.070000171661377, 6.110000133514404, 'お'], [6.110000133514404, 6.510000228881836, '話'], [6.510000228881836, 6.639999866485596, 'も'], [6.639999866485596, 6.880000114440918, 'でき'], [6.880000114440918, 7.159999847412109, 'たら'], [7.159999847412109, 7.349999904632568, 'と'], [7.349999904632568, 7.619999885559082, '思う'], [7.619999885559082, 7.760000228881836, 'の'], [7.760000228881836, 8.020000457763672, 'です'], [8.020000457763672, 8.199999809265137, 'が'], [8.59000015258789, 9.050000190734863, 'いかが'], [9.050000190734863, 9.3100004196167, 'でしょう'], [15.420000076293945, 15.600000381469727, 'か'], [15.600000381469727, 15.680000305175781, 'ええ'], [15.680000305175781, 15.970000267028809, 'そう'], [15.970000267028809, 16.209999084472656, 'です'], [16.209999084472656, 16.3799991607666, 'ね'], [16.3799991607666, 16.65999984741211, 'さん'], [16.65999984741211, 16.799999237060547, 'が'], [16.799999237060547, 17.25, '最初'], [17.25, 17.40999984741211, 'に'], [17.40999984741211, 17.65999984741211, 'いらし'], [17.65999984741211, 17.780000686645508, 'た'], [17.780000686645508, 18.06999969482422, '頃'], [18.389999389648438, 18.950000762939453, '漠然'], [18.950000762939453, 19.09000015258789, 'と'], [19.09000015258789, 19.15999984741211, 'し'], [19.15999984741211, 19.31999969482422, 'た'], [19.31999969482422, 19.639999389648438, '不安'], [19.639999389648438, 19.790000915527344, 'や'], [19.790000915527344, 20.25, '仕事'], [20.25, 20.3700008392334, 'で'], [20.3700008392334, 20.479999542236328, 'の'], [20.479999542236328, 20.920000076293945, '悩み'], [20.920000076293945, 21.0, 'を'], [21.0, 21.3799991607666, '抱え'], [21.3799991607666, 21.549999237060547, 'て'], [21.549999237060547, 22.030000686645508, 'いらっしゃい'], [22.030000686645508, 22.25, 'まし'], [22.25, 22.399999618530273, 'た'], [22.399999618530273, 22.760000228881836, 'ね'], [22.850000381469727, 23.170000076293945, 'あれ'], [23.170000076293945, 23.5, 'から'], [23.639999389648438, 24.209999084472656, 'ずいぶん'], [24.209999084472656, 24.6200008392334, '色々'], [24.6200008392334, 24.770000457763672, 'な'], [24.770000457763672, 25.100000381469727, 'こと'], [25.100000381469727, 25.1299991607666, 'を'], [25.1299991607666, 25.170000076293945, 'お'], [25.170000076293945, 25.6299991607666, '話し'], [25.6299991607666, 25.690000534057617, 'し'], [25.690000534057617, 25.84000015258789, 'て'], [25.84000015258789, 25.979999542236328, 'き'], [25.979999542236328, 26.219999313354492, 'まし'], [26.219999313354492, 26.350000381469727, 'た'], [26.350000381469727, 26.6299991607666, 'ね'], [37.400001525878906, 37.779998779296875, 'そう'], [37.779998779296875, 37.939998626708984, 'な'], [37.939998626708984, 38.0, 'ん'], [38.0, 38.22999954223633, 'です'], [38.22999954223633, 38.45000076293945, 'ね'], [38.47999954223633, 38.810001373291016, '何'], [38.810001373291016, 39.02000045776367, 'か'], [39.36000061035156, 39.779998779296875, '特に'], [39.779998779296875, 40.15999984741211, '印象'], [40.15999984741211, 40.29999923706055, 'に'], [40.560001373291016, 40.59000015258789, '残っ'], [40.59000015258789, 40.83000183105469, 'て'], [40.83000183105469, 40.9900016784668, 'いる'], [40.9900016784668, 41.25, 'こと'], [41.25, 41.45000076293945, 'や'], [41.869998931884766, 42.06999969482422, 'ご'], [42.06999969482422, 42.470001220703125, '自身'], [42.470001220703125, 42.599998474121094, 'で'], [42.599998474121094, 42.95000076293945, 'これ'], [42.95000076293945, 43.08000183105469, 'は'], [43.08000183105469, 43.45000076293945, '変わっ'], [43.45000076293945, 43.630001068115234, 'た'], [43.630001068115234, 43.790000915527344, 'な'], [43.790000915527344, 43.9900016784668, 'と'], [43.9900016784668, 44.47999954223633, '感じる'], [44.47999954223633, 44.70000076293945, 'こと'], [44.70000076293945, 44.88999938964844, 'は'], [44.88999938964844, 45.099998474121094, 'あり'], [45.099998474121094, 45.34000015258789, 'ます'], [45.34000015258789, 45.5099983215332, 'か'], [62.709999084472656, 63.349998474121094, 'なるほど'], [63.349998474121094, 64.04000091552734, '素晴らしい'], [64.04000091552734, 64.4800033569336, '気づき'], [64.4800033569336, 64.72000122070312, 'です'], [64.72000122070312, 65.22000122070312, 'ね'], [65.2699966430664, 65.45999908447266, 'ご'], [65.45999908447266, 65.8499984741211, '自身'], [65.8499984741211, 66.0, 'の'], [66.0, 66.41999816894531, '感情'], [66.41999816894531, 66.4800033569336, 'を'], [66.4800033569336, 67.01000213623047, '客観'], [67.01000213623047, 67.27999877929688, '的'], [67.27999877929688, 67.41999816894531, 'に'], [67.41999816894531, 67.76000213623047, '捉え'], [67.76000213623047, 68.0999984741211, 'られる'], [68.0999984741211, 68.30999755859375, 'よう'], [68.30999755859375, 68.44000244140625, 'に'], [68.44000244140625, 68.62999725341797, 'なっ'], [68.62999725341797, 68.77999877929688, 'た'], [69.05999755859375, 69.30000305175781, 'と'], [69.30000305175781, 69.68000030517578, 'それ'], [69.68000030517578, 69.95999908447266, 'は'], [69.95999908447266, 70.33000183105469, '大きな'], [70.33000183105469, 70.7300033569336, '変化'], [70.7300033569336, 70.95999908447266, 'です'], [70.95999908447266, 71.2699966430664, 'ね'], [85.20999908447266, 85.36000061035156, 'ええ'], [85.36000061035156, 85.62000274658203, '以前'], [85.62000274658203, 85.76000213623047, 'は'], [85.76000213623047, 86.01000213623047, '一'], [86.01000213623047, 86.13999938964844, 'つ'], [86.13999938964844, 86.2699966430664, 'の'], [86.2699966430664, 86.80000305175781, '選択'], [86.80000305175781, 86.95999908447266, '肢'], [86.95999908447266, 87.08999633789062, 'に'], [87.08999633789062, 87.52999877929688, '縛ら'], [87.52999877929688, 87.6500015258789, 'れ'], [87.6500015258789, 87.91000366210938, 'がち'], [87.91000366210938, 88.12999725341797, 'でし'], [88.12999725341797, 88.26000213623047, 'た'], [88.26000213623047, 88.5199966430664, 'もの'], [88.5199966430664, 88.93000030517578, 'ね'], [88.97000122070312, 89.16000366210938, 'ご'], [89.16000366210938, 89.55999755859375, '自身'], [89.55999755859375, 89.69000244140625, 'の'], [89.69000244140625, 90.20999908447266, '変化'], [90.20999908447266, 90.2699966430664, 'を'], [90.2699966430664, 90.5999984741211, 'さん'], [90.5999984741211, 90.73999786376953, 'が'], [90.73999786376953, 90.91999816894531, 'ご'], [90.91999816894531, 91.30999755859375, '自身'], [91.30999755859375, 91.44000244140625, 'で'], [91.44000244140625, 91.81999969482422, '感じ'], [91.81999969482422, 92.05999755859375, 'られ'], [92.05999755859375, 92.25, 'て'], [92.25, 92.41000366210938, 'いる'], [92.41000366210938, 92.55999755859375, 'と'], [92.55999755859375, 92.76000213623047, 'いう'], [92.76000213623047, 92.87999725341797, 'の'], [92.87999725341797, 93.18000030517578, 'は'], [93.18000030517578, 93.70999908447266, '本当'], [93.70999908447266, 93.8499984741211, 'に'], [93.8499984741211, 94.5, '素晴らしい'], [94.5, 94.79000091552734, 'こと'], [94.79000091552734, 95.1500015258789, 'です'], [103.47000122070312, 103.80999755859375, 'そう'], [103.80999755859375, 104.05999755859375, 'です'], [104.05999755859375, 104.4800033569336, 'ね'], [104.55000305175781, 104.91000366210938, '不安'], [104.91000366210938, 105.04000091552734, 'が'], [105.04000091552734, 105.5999984741211, 'なくなる'], [105.5999984741211, 105.93000030517578, 'と'], [105.93000030517578, 106.1500015258789, 'いう'], [106.1500015258789, 106.43000030517578, 'こと'], [106.43000030517578, 106.55000305175781, 'で'], [106.55000305175781, 106.69999694824219, 'は'], [106.69999694824219, 107.04000091552734, 'なく'], [107.4000015258789, 107.81999969482422, '不安'], [107.81999969482422, 107.95999908447266, 'と'], [107.95999908447266, 108.08999633789062, 'どう'], [108.08999633789062, 108.56999969482422, '向き合っ'], [108.56999969482422, 108.76000213623047, 'て'], [108.76000213623047, 109.0, 'いく'], [109.0, 109.3499984741211, 'か'], [109.44999694824219, 109.58999633789062, 'と'], [109.58999633789062, 109.83999633789062, 'いう'], [109.83999633789062, 110.13999938964844, '視点'], [110.13999938964844, 110.27999877929688, 'が'], [110.27999877929688, 110.80999755859375, '大切'], [110.80999755859375, 111.02999877929688, 'でし'], [111.02999877929688, 111.16999816894531, 'た'], [111.16999816894531, 111.38999938964844, 'ね'], [111.41999816894531, 111.76000213623047, '今'], [111.76000213623047, 112.16000366210938, 'さん'], [112.16000366210938, 112.2699966430664, 'に'], [112.2699966430664, 112.4800033569336, 'は'], [112.8499984741211, 113.02999877929688, 'ご'], [113.02999877929688, 113.41000366210938, '自身'], [113.41000366210938, 113.52999877929688, 'で'], [113.52999877929688, 113.83000183105469, 'その'], [113.83000183105469, 114.29000091552734, '対処'], [114.29000091552734, 114.5, '法'], [114.5, 114.58000183105469, 'を'], [114.58000183105469, 115.12000274658203, '見つける'], [115.12000274658203, 115.54000091552734, '力'], [115.54000091552734, 115.63999938964844, 'が'], [115.63999938964844, 116.1500015258789, '備わっ'], [116.1500015258789, 116.33000183105469, 'て'], [116.33000183105469, 116.41999816894531, 'き'], [116.41999816894531, 116.58000183105469, 'て'], [116.58000183105469, 116.79000091552734, 'いる'], [116.79000091552734, 116.93000030517578, 'と'], [116.93000030517578, 117.29000091552734, '感じ'], [117.29000091552734, 117.6500015258789, 'ます'], [117.97000122070312, 118.30000305175781, 'これ'], [118.30000305175781, 118.54000091552734, 'から'], [118.54000091552734, 118.72000122070312, 'も'], [119.08000183105469, 119.41000366210938, 'この'], [119.41000366210938, 119.91999816894531, 'セッション'], [119.91999816894531, 120.05999755859375, 'で'], [120.05999755859375, 120.1500015258789, '得'], [120.1500015258789, 120.2699966430664, 'た'], [120.2699966430664, 120.72000122070312, '学び'], [120.72000122070312, 120.88999938964844, 'を'], [120.88999938964844, 121.29000091552734, 'ぜひ'], [121.29000091552734, 121.77999877929688, '日常'], [121.77999877929688, 121.91000366210938, 'の'], [121.91000366210938, 122.19999694824219, '中'], [122.19999694824219, 122.31999969482422, 'で'], [122.31999969482422, 122.6500015258789, '活かし'], [122.6500015258789, 122.80000305175781, 'て'], [122.80000305175781, 122.93000030517578, 'いっ'], [122.93000030517578, 123.11000061035156, 'て'], [123.11000061035156, 123.62999725341797, 'ください'], [123.62999725341797, 123.94999694824219, 'ね'], [126.02999877929688, 126.23999786376953, 'ええ'], [126.61000061035156, 126.86000061035156, '今日'], [126.86000061035156, 127.0199966430664, 'は'], [127.0199966430664, 127.37000274658203, 'ここ'], [127.37000274658203, 127.6500015258789, 'まで'], [127.6500015258789, 127.7699966430664, 'に'], [127.7699966430664, 127.93000030517578, 'し'], [127.93000030517578, 128.3000030517578, 'ましょう'], [128.3000030517578, 128.63999938964844, 'か'], [128.91000366210938, 129.41000366210938, '次回'], [129.41000366210938, 129.55999755859375, 'の'], [129.55999755859375, 130.07000732421875, 'セッション'], [130.07000732421875, 130.25999450683594, 'で'], [130.42999267578125, 130.80999755859375, 'また'], [130.80999755859375, 131.1699981689453, '少し'], [131.1699981689453, 131.5500030517578, '今後'], [131.5500030517578, 131.69000244140625, 'に'], [131.69000244140625, 131.92999267578125, 'つい'], [131.92999267578125, 132.07000732421875, 'て'], [132.07000732421875, 132.47999572753906, '具体'], [132.47999572753906, 132.74000549316406, '的'], [132.74000549316406, 132.8699951171875, 'に'], [132.8699951171875, 133.30999755859375, '考え'], [133.30999755859375, 133.4600067138672, 'て'], [133.4600067138672, 133.6999969482422, 'いき'], [133.6999969482422, 134.13999938964844, 'ましょう'], [134.1699981689453, 134.5, '何'], [134.5, 134.66000366210938, 'か'], [134.66000366210938, 134.83999633789062, 'ご'], [134.83999633789062, 135.1699981689453, '不明'], [135.1699981689453, 135.30999755859375, 'な'], [135.30999755859375, 135.52999877929688, '点'], [135.52999877929688, 135.64999389648438, 'は'], [135.64999389648438, 135.83999633789062, 'あり'], [135.83999633789062, 136.1300048828125, 'ませ'], [136.1300048828125, 136.2100067138672, 'ん'], [136.2100067138672, 136.55999755859375, 'か'], [140.5500030517578, 140.9499969482422, 'はい'], [141.02000427246094, 141.52999877929688, 'こちら'], [141.52999877929688, 141.83999633789062, 'こそ'], [141.83999633789062, 142.17999267578125, 'また'], [142.17999267578125, 142.5500030517578, '来週'], [143.0, 143.13999938964844, 'お'], [143.13999938964844, 143.50999450683594, '待ち'], [143.50999450683594, 143.55999755859375, 'し'], [143.55999755859375, 143.6999969482422, 'て'], [143.6999969482422, 143.7899932861328, 'い'], [143.7899932861328, 144.05999755859375, 'ます'], [144.05999755859375, 144.3699951171875, 'ね']]\n",
      "[[10.020000457763672, 10.350000381469727, 'はい'], [10.670000076293945, 11.180000305175781, '大丈夫'], [11.180000305175781, 11.479999542236328, 'です'], [11.779999732971191, 12.100000381469727, 'もう'], [12.100000381469727, 12.4399995803833, 'そんな'], [12.4399995803833, 12.670000076293945, '時期'], [12.670000076293945, 12.800000190734863, 'な'], [12.800000190734863, 12.850000381469727, 'ん'], [12.850000381469727, 13.050000190734863, 'です'], [13.050000190734863, 13.779999732971191, 'ね'], [13.989999771118164, 14.149999618530273, 'あっ'], [14.149999618530273, 14.329999923706055, 'と'], [14.329999923706055, 14.529999732971191, 'いう'], [14.529999732971191, 14.680000305175781, '間'], [14.680000305175781, 14.859999656677246, 'でし'], [26.899999618530273, 26.979999542236328, 'た'], [26.979999542236328, 27.31999969482422, 'はい'], [27.670000076293945, 28.3700008392334, 'まさか'], [28.739999771118164, 29.06999969482422, '自分'], [29.06999969482422, 29.200000762939453, 'が'], [29.200000762939453, 29.5, 'こんな'], [29.5, 29.6200008392334, 'に'], [29.6200008392334, 30.09000015258789, '変われる'], [30.09000015258789, 30.200000762939453, 'と'], [30.200000762939453, 30.290000915527344, 'は'], [30.290000915527344, 30.579999923706055, '思っ'], [30.579999923706055, 30.739999771118164, 'て'], [30.739999771118164, 30.790000915527344, 'い'], [30.790000915527344, 30.81999969482422, 'なかっ'], [30.81999969482422, 31.219999313354492, 'た'], [31.219999313354492, 31.559999465942383, 'です'], [31.940000534057617, 32.310001373291016, '以前'], [32.310001373291016, 32.43000030517578, 'は'], [32.43000030517578, 32.86000061035156, '本当'], [32.86000061035156, 32.970001220703125, 'に'], [32.970001220703125, 33.459999084472656, '毎日'], [33.459999084472656, 33.61000061035156, 'が'], [33.61000061035156, 33.97999954223633, '辛く'], [33.97999954223633, 34.31999969482422, 'て'], [34.84000015258789, 35.0, 'どう'], [35.0, 35.11000061035156, 'し'], [35.11000061035156, 35.34000015258789, 'たら'], [35.34000015258789, 35.470001220703125, 'いい'], [35.470001220703125, 35.59000015258789, 'か'], [35.59000015258789, 35.86000061035156, '分'], [35.86000061035156, 36.20000076293945, 'から'], [36.20000076293945, 36.2400016784668, 'なかっ'], [36.2400016784668, 36.40999984741211, 'た'], [36.40999984741211, 36.459999084472656, 'ん'], [36.459999084472656, 36.65999984741211, 'です'], [36.65999984741211, 36.88999938964844, 'けど'], [36.88999938964844, 37.099998474121094, 'うーん'], [46.79999923706055, 46.93000030517578, 'そう'], [46.93000030517578, 47.13999938964844, 'です'], [47.13999938964844, 47.720001220703125, 'ね'], [47.959999084472656, 48.400001525878906, 'やっぱり'], [49.099998474121094, 49.43000030517578, '自分'], [49.43000030517578, 49.540000915527344, 'の'], [49.540000915527344, 49.93000030517578, '感情'], [49.93000030517578, 50.04999923706055, 'と'], [50.04999923706055, 50.43000030517578, '行動'], [50.43000030517578, 50.560001373291016, 'の'], [50.560001373291016, 51.02000045776367, 'つながり'], [51.02000045776367, 51.06999969482422, 'を'], [51.06999969482422, 51.36000061035156, '理解'], [51.36000061035156, 51.56999969482422, 'でき'], [51.56999969482422, 51.70000076293945, 'た'], [51.70000076293945, 51.939998626708984, 'こと'], [51.939998626708984, 52.09000015258789, 'が'], [52.09000015258789, 52.5, '大きい'], [52.5, 52.7400016784668, 'です'], [53.2599983215332, 53.630001068115234, '以前'], [53.630001068115234, 53.880001068115234, 'は'], [54.36000061035156, 54.779998779296875, '不安'], [54.779998779296875, 54.88999938964844, 'に'], [54.88999938964844, 55.13999938964844, 'なる'], [55.13999938964844, 55.25, 'と'], [55.25, 55.5, 'すぐ'], [55.5, 55.900001525878906, '動け'], [55.900001525878906, 56.15999984741211, 'なく'], [56.15999984741211, 56.33000183105469, 'なっ'], [56.33000183105469, 56.43000030517578, 'て'], [56.43000030517578, 56.72999954223633, 'しまっ'], [56.72999954223633, 56.88999938964844, 'て'], [56.88999938964844, 56.97999954223633, 'い'], [56.97999954223633, 57.20000076293945, 'まし'], [57.20000076293945, 57.310001373291016, 'た'], [57.310001373291016, 57.61000061035156, 'が'], [57.779998779296875, 58.31999969482422, '最近'], [58.31999969482422, 58.47999954223633, 'は'], [58.47999954223633, 58.689998626708984, 'これ'], [58.689998626708984, 58.84000015258789, 'は'], [58.84000015258789, 59.130001068115234, '不安'], [59.130001068115234, 59.209999084472656, 'を'], [59.209999084472656, 59.54999923706055, '感じ'], [59.54999923706055, 59.66999816894531, 'て'], [59.66999816894531, 59.83000183105469, 'いる'], [59.83000183105469, 59.88999938964844, 'ん'], [59.88999938964844, 60.0, 'だ'], [60.0, 60.15999984741211, 'な'], [60.15999984741211, 60.33000183105469, 'って'], [60.33000183105469, 60.7400016784668, '客観'], [60.7400016784668, 60.970001220703125, '的'], [60.970001220703125, 61.08000183105469, 'に'], [61.08000183105469, 61.189998626708984, '見'], [61.189998626708984, 61.4900016784668, 'られる'], [61.4900016784668, 61.65999984741211, 'よう'], [61.65999984741211, 61.779998779296875, 'に'], [61.779998779296875, 61.9900016784668, 'なり'], [61.9900016784668, 62.20000076293945, 'まし'], [71.54000091552734, 71.62999725341797, 'た'], [71.62999725341797, 71.91000366210938, 'はい'], [72.54000091552734, 72.9800033569336, 'おかげ'], [72.9800033569336, 73.19000244140625, 'で'], [73.6500015258789, 73.97000122070312, '無理'], [73.97000122070312, 74.08999633789062, 'に'], [74.08999633789062, 74.48999786376953, '頑張り'], [74.48999786376953, 74.70999908447266, 'すぎ'], [74.70999908447266, 74.81999969482422, 'ず'], [74.81999969482422, 75.08000183105469, 'に'], [75.22000122070312, 75.56999969482422, '少し'], [75.56999969482422, 76.0199966430664, '休憩'], [76.0199966430664, 76.26000213623047, 'する'], [76.26000213623047, 76.38999938964844, 'と'], [76.38999938964844, 76.55999755859375, 'か'], [76.91999816894531, 77.20999908447266, '誰'], [77.20999908447266, 77.33000183105469, 'か'], [77.33000183105469, 77.43000030517578, 'に'], [77.43000030517578, 77.9000015258789, '相談'], [77.9000015258789, 77.98999786376953, 'し'], [77.98999786376953, 78.12000274658203, 'て'], [78.12000274658203, 78.33999633789062, 'みる'], [78.33999633789062, 78.45999908447266, 'と'], [78.45999908447266, 78.69000244140625, 'か'], [78.91999816894531, 79.37999725341797, '違う'], [79.37999725341797, 79.7699966430664, '選択'], [79.7699966430664, 79.94999694824219, '肢'], [79.94999694824219, 80.05999755859375, 'も'], [80.05999755859375, 80.44999694824219, '考え'], [80.44999694824219, 80.7699966430664, 'られる'], [80.7699966430664, 80.94999694824219, 'よう'], [80.94999694824219, 81.06999969482422, 'に'], [81.06999969482422, 81.29000091552734, 'なり'], [81.29000091552734, 81.5, 'まし'], [81.5, 81.75, 'た'], [82.36000061035156, 82.69000244140625, '以前'], [82.69000244140625, 82.79000091552734, 'は'], [82.79000091552734, 83.04000091552734, 'そう'], [83.04000091552734, 83.23999786376953, 'いう'], [83.23999786376953, 83.62000274658203, '発想'], [83.62000274658203, 83.83999633789062, 'すら'], [83.83999633789062, 84.05999755859375, 'なく'], [84.05999755859375, 84.33999633789062, 'て'], [95.47000122070312, 96.05000305175781, 'ありがとう'], [96.05000305175781, 96.41000366210938, 'ござい'], [96.41000366210938, 96.6500015258789, 'ます'], [97.25, 97.41000366210938, 'で'], [97.41000366210938, 97.66999816894531, 'も'], [98.04000091552734, 98.43000030517578, 'まだ'], [98.43000030517578, 98.83000183105469, '完全'], [98.83000183105469, 98.94000244140625, 'に'], [98.94000244140625, 99.26000213623047, '不安'], [99.26000213623047, 99.36000061035156, 'が'], [99.36000061035156, 99.47000122070312, 'なくなっ'], [99.47000122070312, 99.87999725341797, 'た'], [99.87999725341797, 100.11000061035156, 'わけ'], [100.11000061035156, 100.20999908447266, 'で'], [100.20999908447266, 100.37000274658203, 'は'], [100.37000274658203, 100.55999755859375, 'ない'], [100.55999755859375, 100.66999816894531, 'の'], [100.66999816894531, 101.0199966430664, 'で'], [101.2699966430664, 101.5999984741211, '少し'], [101.5999984741211, 102.05999755859375, '心配'], [102.05999755859375, 102.18000030517578, 'な'], [102.18000030517578, 102.55000305175781, '気持ち'], [102.55000305175781, 102.69999694824219, 'も'], [102.69999694824219, 102.8499984741211, 'あり'], [102.8499984741211, 103.08999633789062, 'ます'], [124.19000244140625, 124.72000122070312, 'はい'], [124.87999725341797, 125.31999969482422, '頑張り'], [125.31999969482422, 125.55999755859375, 'ます'], [136.85000610351562, 137.1999969482422, 'いいえ'], [137.47999572753906, 137.99000549316406, '大丈夫'], [137.99000549316406, 138.27000427246094, 'です'], [138.8300018310547, 139.3699951171875, 'ありがとう'], [139.3699951171875, 139.75, 'ござい'], [139.75, 139.97999572753906, 'まし'], [139.97999572753906, 140.25999450683594, 'た']]\n",
      "[[10.020000457763672, 10.350000381469727, 'はい'], [10.670000076293945, 11.180000305175781, '大丈夫'], [11.180000305175781, 11.479999542236328, 'です'], [11.779999732971191, 12.100000381469727, 'もう'], [12.100000381469727, 12.4399995803833, 'そんな'], [12.4399995803833, 12.670000076293945, '時期'], [12.670000076293945, 12.800000190734863, 'な'], [12.800000190734863, 12.850000381469727, 'ん'], [12.850000381469727, 13.050000190734863, 'です'], [13.050000190734863, 13.779999732971191, 'ね'], [13.989999771118164, 14.149999618530273, 'あっ'], [14.149999618530273, 14.329999923706055, 'と'], [14.329999923706055, 14.529999732971191, 'いう'], [14.529999732971191, 14.680000305175781, '間'], [14.680000305175781, 14.859999656677246, 'でし'], [26.899999618530273, 26.979999542236328, 'た'], [26.979999542236328, 27.31999969482422, 'はい'], [27.670000076293945, 28.3700008392334, 'まさか'], [28.739999771118164, 29.06999969482422, '自分'], [29.06999969482422, 29.200000762939453, 'が'], [29.200000762939453, 29.5, 'こんな'], [29.5, 29.6200008392334, 'に'], [29.6200008392334, 30.09000015258789, '変われる'], [30.09000015258789, 30.200000762939453, 'と'], [30.200000762939453, 30.290000915527344, 'は'], [30.290000915527344, 30.579999923706055, '思っ'], [30.579999923706055, 30.739999771118164, 'て'], [30.739999771118164, 30.790000915527344, 'い'], [30.790000915527344, 30.81999969482422, 'なかっ'], [30.81999969482422, 31.219999313354492, 'た'], [31.219999313354492, 31.559999465942383, 'です'], [31.940000534057617, 32.310001373291016, '以前'], [32.310001373291016, 32.43000030517578, 'は'], [32.43000030517578, 32.86000061035156, '本当'], [32.86000061035156, 32.970001220703125, 'に'], [32.970001220703125, 33.459999084472656, '毎日'], [33.459999084472656, 33.61000061035156, 'が'], [33.61000061035156, 33.97999954223633, '辛く'], [33.97999954223633, 34.31999969482422, 'て'], [34.84000015258789, 35.0, 'どう'], [35.0, 35.11000061035156, 'し'], [35.11000061035156, 35.34000015258789, 'たら'], [35.34000015258789, 35.470001220703125, 'いい'], [35.470001220703125, 35.59000015258789, 'か'], [35.59000015258789, 35.86000061035156, '分'], [35.86000061035156, 36.20000076293945, 'から'], [36.20000076293945, 36.2400016784668, 'なかっ'], [36.2400016784668, 36.40999984741211, 'た'], [36.40999984741211, 36.459999084472656, 'ん'], [36.459999084472656, 36.65999984741211, 'です'], [36.65999984741211, 36.88999938964844, 'けど'], [36.88999938964844, 37.099998474121094, 'うーん'], [46.79999923706055, 46.93000030517578, 'そう'], [46.93000030517578, 47.13999938964844, 'です'], [47.13999938964844, 47.720001220703125, 'ね'], [47.959999084472656, 48.400001525878906, 'やっぱり'], [49.099998474121094, 49.43000030517578, '自分'], [49.43000030517578, 49.540000915527344, 'の'], [49.540000915527344, 49.93000030517578, '感情'], [49.93000030517578, 50.04999923706055, 'と'], [50.04999923706055, 50.43000030517578, '行動'], [50.43000030517578, 50.560001373291016, 'の'], [50.560001373291016, 51.02000045776367, 'つながり'], [51.02000045776367, 51.06999969482422, 'を'], [51.06999969482422, 51.36000061035156, '理解'], [51.36000061035156, 51.56999969482422, 'でき'], [51.56999969482422, 51.70000076293945, 'た'], [51.70000076293945, 51.939998626708984, 'こと'], [51.939998626708984, 52.09000015258789, 'が'], [52.09000015258789, 52.5, '大きい'], [52.5, 52.7400016784668, 'です'], [53.2599983215332, 53.630001068115234, '以前'], [53.630001068115234, 53.880001068115234, 'は'], [54.36000061035156, 54.779998779296875, '不安'], [54.779998779296875, 54.88999938964844, 'に'], [54.88999938964844, 55.13999938964844, 'なる'], [55.13999938964844, 55.25, 'と'], [55.25, 55.5, 'すぐ'], [55.5, 55.900001525878906, '動け'], [55.900001525878906, 56.15999984741211, 'なく'], [56.15999984741211, 56.33000183105469, 'なっ'], [56.33000183105469, 56.43000030517578, 'て'], [56.43000030517578, 56.72999954223633, 'しまっ'], [56.72999954223633, 56.88999938964844, 'て'], [56.88999938964844, 56.97999954223633, 'い'], [56.97999954223633, 57.20000076293945, 'まし'], [57.20000076293945, 57.310001373291016, 'た'], [57.310001373291016, 57.61000061035156, 'が'], [57.779998779296875, 58.31999969482422, '最近'], [58.31999969482422, 58.47999954223633, 'は'], [58.47999954223633, 58.689998626708984, 'これ'], [58.689998626708984, 58.84000015258789, 'は'], [58.84000015258789, 59.130001068115234, '不安'], [59.130001068115234, 59.209999084472656, 'を'], [59.209999084472656, 59.54999923706055, '感じ'], [59.54999923706055, 59.66999816894531, 'て'], [59.66999816894531, 59.83000183105469, 'いる'], [59.83000183105469, 59.88999938964844, 'ん'], [59.88999938964844, 60.0, 'だ'], [60.0, 60.15999984741211, 'な'], [60.15999984741211, 60.33000183105469, 'って'], [60.33000183105469, 60.7400016784668, '客観'], [60.7400016784668, 60.970001220703125, '的'], [60.970001220703125, 61.08000183105469, 'に'], [61.08000183105469, 61.189998626708984, '見'], [61.189998626708984, 61.4900016784668, 'られる'], [61.4900016784668, 61.65999984741211, 'よう'], [61.65999984741211, 61.779998779296875, 'に'], [61.779998779296875, 61.9900016784668, 'なり'], [61.9900016784668, 62.20000076293945, 'まし'], [71.54000091552734, 71.62999725341797, 'た'], [71.62999725341797, 71.91000366210938, 'はい'], [72.54000091552734, 72.9800033569336, 'おかげ'], [72.9800033569336, 73.19000244140625, 'で'], [73.6500015258789, 73.97000122070312, '無理'], [73.97000122070312, 74.08999633789062, 'に'], [74.08999633789062, 74.48999786376953, '頑張り'], [74.48999786376953, 74.70999908447266, 'すぎ'], [74.70999908447266, 74.81999969482422, 'ず'], [74.81999969482422, 75.08000183105469, 'に'], [75.22000122070312, 75.56999969482422, '少し'], [75.56999969482422, 76.0199966430664, '休憩'], [76.0199966430664, 76.26000213623047, 'する'], [76.26000213623047, 76.38999938964844, 'と'], [76.38999938964844, 76.55999755859375, 'か'], [76.91999816894531, 77.20999908447266, '誰'], [77.20999908447266, 77.33000183105469, 'か'], [77.33000183105469, 77.43000030517578, 'に'], [77.43000030517578, 77.9000015258789, '相談'], [77.9000015258789, 77.98999786376953, 'し'], [77.98999786376953, 78.12000274658203, 'て'], [78.12000274658203, 78.33999633789062, 'みる'], [78.33999633789062, 78.45999908447266, 'と'], [78.45999908447266, 78.69000244140625, 'か'], [78.91999816894531, 79.37999725341797, '違う'], [79.37999725341797, 79.7699966430664, '選択'], [79.7699966430664, 79.94999694824219, '肢'], [79.94999694824219, 80.05999755859375, 'も'], [80.05999755859375, 80.44999694824219, '考え'], [80.44999694824219, 80.7699966430664, 'られる'], [80.7699966430664, 80.94999694824219, 'よう'], [80.94999694824219, 81.06999969482422, 'に'], [81.06999969482422, 81.29000091552734, 'なり'], [81.29000091552734, 81.5, 'まし'], [81.5, 81.75, 'た'], [82.36000061035156, 82.69000244140625, '以前'], [82.69000244140625, 82.79000091552734, 'は'], [82.79000091552734, 83.04000091552734, 'そう'], [83.04000091552734, 83.23999786376953, 'いう'], [83.23999786376953, 83.62000274658203, '発想'], [83.62000274658203, 83.83999633789062, 'すら'], [83.83999633789062, 84.05999755859375, 'なく'], [84.05999755859375, 84.33999633789062, 'て'], [95.47000122070312, 96.05000305175781, 'ありがとう'], [96.05000305175781, 96.41000366210938, 'ござい'], [96.41000366210938, 96.6500015258789, 'ます'], [97.25, 97.41000366210938, 'で'], [97.41000366210938, 97.66999816894531, 'も'], [98.04000091552734, 98.43000030517578, 'まだ'], [98.43000030517578, 98.83000183105469, '完全'], [98.83000183105469, 98.94000244140625, 'に'], [98.94000244140625, 99.26000213623047, '不安'], [99.26000213623047, 99.36000061035156, 'が'], [99.36000061035156, 99.47000122070312, 'なくなっ'], [99.47000122070312, 99.87999725341797, 'た'], [99.87999725341797, 100.11000061035156, 'わけ'], [100.11000061035156, 100.20999908447266, 'で'], [100.20999908447266, 100.37000274658203, 'は'], [100.37000274658203, 100.55999755859375, 'ない'], [100.55999755859375, 100.66999816894531, 'の'], [100.66999816894531, 101.0199966430664, 'で'], [101.2699966430664, 101.5999984741211, '少し'], [101.5999984741211, 102.05999755859375, '心配'], [102.05999755859375, 102.18000030517578, 'な'], [102.18000030517578, 102.55000305175781, '気持ち'], [102.55000305175781, 102.69999694824219, 'も'], [102.69999694824219, 102.8499984741211, 'あり'], [102.8499984741211, 103.08999633789062, 'ます'], [124.19000244140625, 124.72000122070312, 'はい'], [124.87999725341797, 125.31999969482422, '頑張り'], [125.31999969482422, 125.55999755859375, 'ます'], [136.85000610351562, 137.1999969482422, 'いいえ'], [137.47999572753906, 137.99000549316406, '大丈夫'], [137.99000549316406, 138.27000427246094, 'です'], [138.8300018310547, 139.3699951171875, 'ありがとう'], [139.3699951171875, 139.75, 'ござい'], [139.75, 139.97999572753906, 'まし'], [139.97999572753906, 140.25999450683594, 'た']]\n",
      "CPU times: user 10.2 s, sys: 1.68 s, total: 11.9 s\n",
      "Wall time: 5min 16s\n"
     ]
    },
    {
     "ename": "TypeError",
     "evalue": "list indices must be integers or slices, not str",
     "output_type": "error",
     "traceback": [
      "\u001b[31m---------------------------------------------------------------------------\u001b[39m",
      "\u001b[31mTypeError\u001b[39m                                 Traceback (most recent call last)",
      "\u001b[36mCell\u001b[39m\u001b[36m \u001b[39m\u001b[32mIn[32]\u001b[39m\u001b[32m, line 1\u001b[39m\n\u001b[32m----> \u001b[39m\u001b[32m1\u001b[39m \u001b[43mget_ipython\u001b[49m\u001b[43m(\u001b[49m\u001b[43m)\u001b[49m\u001b[43m.\u001b[49m\u001b[43mrun_cell_magic\u001b[49m\u001b[43m(\u001b[49m\u001b[33;43m'\u001b[39;49m\u001b[33;43mtime\u001b[39;49m\u001b[33;43m'\u001b[39;49m\u001b[43m,\u001b[49m\u001b[43m \u001b[49m\u001b[33;43m'\u001b[39;49m\u001b[33;43m'\u001b[39;49m\u001b[43m,\u001b[49m\u001b[43m \u001b[49m\u001b[33;43m'\u001b[39;49m\u001b[38;5;130;43;01m\\n\u001b[39;49;00m\u001b[33;43mimport soundfile as sf\u001b[39;49m\u001b[38;5;130;43;01m\\n\u001b[39;49;00m\u001b[33;43mimport json\u001b[39;49m\u001b[38;5;130;43;01m\\n\u001b[39;49;00m\u001b[38;5;130;43;01m\\n\u001b[39;49;00m\u001b[33;43mfor i in range(file_name_num+1, gen_dial_num+file_name_num+1):\u001b[39;49m\u001b[38;5;130;43;01m\\n\u001b[39;49;00m\u001b[38;5;130;43;01m\\n\u001b[39;49;00m\u001b[33;43m    # テキスト生成\u001b[39;49m\u001b[38;5;130;43;01m\\n\u001b[39;49;00m\u001b[33;43m    txt_dialogue_list = gen_txt_dialogue()\u001b[39;49m\u001b[38;5;130;43;01m\\n\u001b[39;49;00m\u001b[38;5;130;43;01m\\n\u001b[39;49;00m\u001b[33;43m    # 音声合成のためのプロンプト生成\u001b[39;49m\u001b[38;5;130;43;01m\\n\u001b[39;49;00m\u001b[33;43m    audio_synth_prompt = build_audio_synth_prompt(txt_dialogue_list)\u001b[39;49m\u001b[38;5;130;43;01m\\n\u001b[39;49;00m\u001b[38;5;130;43;01m\\n\u001b[39;49;00m\u001b[33;43m    # 対話テキストを音声合成\u001b[39;49m\u001b[38;5;130;43;01m\\n\u001b[39;49;00m\u001b[33;43m    stereo = gen_audio_dialogue(txt_dialogue_list, audio_synth_prompt)\u001b[39;49m\u001b[38;5;130;43;01m\\n\u001b[39;49;00m\u001b[38;5;130;43;01m\\n\u001b[39;49;00m\u001b[33;43m    wav_name = f\u001b[39;49m\u001b[33;43m\"\u001b[39;49m\u001b[38;5;132;43;01m{i}\u001b[39;49;00m\u001b[33;43m.wav\u001b[39;49m\u001b[33;43m\"\u001b[39;49m\u001b[38;5;130;43;01m\\n\u001b[39;49;00m\u001b[33;43m    audio_file_path = os.path.join(audio_dir_path, wav_name)\u001b[39;49m\u001b[38;5;130;43;01m\\n\u001b[39;49;00m\u001b[38;5;130;43;01m\\n\u001b[39;49;00m\u001b[33;43m    # wavファイル出力\u001b[39;49m\u001b[38;5;130;43;01m\\n\u001b[39;49;00m\u001b[33;43m    sf.write(audio_file_path, stereo, setting_sr)\u001b[39;49m\u001b[38;5;130;43;01m\\n\u001b[39;49;00m\u001b[38;5;130;43;01m\\n\u001b[39;49;00m\u001b[33;43m    # 音声アラインメント\u001b[39;49m\u001b[38;5;130;43;01m\\n\u001b[39;49;00m\u001b[33;43m    json_data = alignment_audio_dialogue(txt_dialogue_list, audio_file_path, i)\u001b[39;49m\u001b[38;5;130;43;01m\\n\u001b[39;49;00m\u001b[38;5;130;43;01m\\n\u001b[39;49;00m\u001b[33;43m    json_name = f\u001b[39;49m\u001b[33;43m\"\u001b[39;49m\u001b[38;5;132;43;01m{i}\u001b[39;49;00m\u001b[33;43m.json\u001b[39;49m\u001b[33;43m\"\u001b[39;49m\u001b[38;5;130;43;01m\\n\u001b[39;49;00m\u001b[33;43m    json_file_path = os.path.join(json_dir_path, json_name)\u001b[39;49m\u001b[38;5;130;43;01m\\n\u001b[39;49;00m\u001b[38;5;130;43;01m\\n\u001b[39;49;00m\u001b[33;43m    # JSON出力\u001b[39;49m\u001b[38;5;130;43;01m\\n\u001b[39;49;00m\u001b[33;43m    with open(json_file_path, \u001b[39;49m\u001b[38;5;130;43;01m\\'\u001b[39;49;00m\u001b[33;43mw\u001b[39;49m\u001b[38;5;130;43;01m\\'\u001b[39;49;00m\u001b[33;43m, encoding=\u001b[39;49m\u001b[38;5;130;43;01m\\'\u001b[39;49;00m\u001b[33;43mutf-8\u001b[39;49m\u001b[38;5;130;43;01m\\'\u001b[39;49;00m\u001b[33;43m) as f:\u001b[39;49m\u001b[38;5;130;43;01m\\n\u001b[39;49;00m\u001b[33;43m        json.dump(json_data, f, ensure_ascii=False, indent=2)\u001b[39;49m\u001b[38;5;130;43;01m\\n\u001b[39;49;00m\u001b[33;43m'\u001b[39;49m\u001b[43m)\u001b[49m\n",
      "\u001b[36mFile \u001b[39m\u001b[32m/nfs1/s1f102201582/anaconda3/envs/sbv-tts/lib/python3.12/site-packages/IPython/core/interactiveshell.py:2565\u001b[39m, in \u001b[36mInteractiveShell.run_cell_magic\u001b[39m\u001b[34m(self, magic_name, line, cell)\u001b[39m\n\u001b[32m   2563\u001b[39m \u001b[38;5;28;01mwith\u001b[39;00m \u001b[38;5;28mself\u001b[39m.builtin_trap:\n\u001b[32m   2564\u001b[39m     args = (magic_arg_s, cell)\n\u001b[32m-> \u001b[39m\u001b[32m2565\u001b[39m     result = \u001b[43mfn\u001b[49m\u001b[43m(\u001b[49m\u001b[43m*\u001b[49m\u001b[43margs\u001b[49m\u001b[43m,\u001b[49m\u001b[43m \u001b[49m\u001b[43m*\u001b[49m\u001b[43m*\u001b[49m\u001b[43mkwargs\u001b[49m\u001b[43m)\u001b[49m\n\u001b[32m   2567\u001b[39m \u001b[38;5;66;03m# The code below prevents the output from being displayed\u001b[39;00m\n\u001b[32m   2568\u001b[39m \u001b[38;5;66;03m# when using magics with decorator @output_can_be_silenced\u001b[39;00m\n\u001b[32m   2569\u001b[39m \u001b[38;5;66;03m# when the last Python token in the expression is a ';'.\u001b[39;00m\n\u001b[32m   2570\u001b[39m \u001b[38;5;28;01mif\u001b[39;00m \u001b[38;5;28mgetattr\u001b[39m(fn, magic.MAGIC_OUTPUT_CAN_BE_SILENCED, \u001b[38;5;28;01mFalse\u001b[39;00m):\n",
      "\u001b[36mFile \u001b[39m\u001b[32m/nfs1/s1f102201582/anaconda3/envs/sbv-tts/lib/python3.12/site-packages/IPython/core/magics/execution.py:1452\u001b[39m, in \u001b[36mExecutionMagics.time\u001b[39m\u001b[34m(self, line, cell, local_ns)\u001b[39m\n\u001b[32m   1450\u001b[39m \u001b[38;5;28;01mif\u001b[39;00m interrupt_occured:\n\u001b[32m   1451\u001b[39m     \u001b[38;5;28;01mif\u001b[39;00m exit_on_interrupt \u001b[38;5;129;01mand\u001b[39;00m captured_exception:\n\u001b[32m-> \u001b[39m\u001b[32m1452\u001b[39m         \u001b[38;5;28;01mraise\u001b[39;00m captured_exception\n\u001b[32m   1453\u001b[39m     \u001b[38;5;28;01mreturn\u001b[39;00m\n\u001b[32m   1454\u001b[39m \u001b[38;5;28;01mreturn\u001b[39;00m out\n",
      "\u001b[36mFile \u001b[39m\u001b[32m/nfs1/s1f102201582/anaconda3/envs/sbv-tts/lib/python3.12/site-packages/IPython/core/magics/execution.py:1416\u001b[39m, in \u001b[36mExecutionMagics.time\u001b[39m\u001b[34m(self, line, cell, local_ns)\u001b[39m\n\u001b[32m   1414\u001b[39m st = clock2()\n\u001b[32m   1415\u001b[39m \u001b[38;5;28;01mtry\u001b[39;00m:\n\u001b[32m-> \u001b[39m\u001b[32m1416\u001b[39m     \u001b[43mexec\u001b[49m\u001b[43m(\u001b[49m\u001b[43mcode\u001b[49m\u001b[43m,\u001b[49m\u001b[43m \u001b[49m\u001b[43mglob\u001b[49m\u001b[43m,\u001b[49m\u001b[43m \u001b[49m\u001b[43mlocal_ns\u001b[49m\u001b[43m)\u001b[49m\n\u001b[32m   1417\u001b[39m     out = \u001b[38;5;28;01mNone\u001b[39;00m\n\u001b[32m   1418\u001b[39m     \u001b[38;5;66;03m# multi-line %%time case\u001b[39;00m\n",
      "\u001b[36mFile \u001b[39m\u001b[32m<timed exec>:22\u001b[39m\n",
      "\u001b[36mCell\u001b[39m\u001b[36m \u001b[39m\u001b[32mIn[30]\u001b[39m\u001b[32m, line 106\u001b[39m, in \u001b[36malignment_audio_dialogue\u001b[39m\u001b[34m(text_dialogue_list, audio_path, idx)\u001b[39m\n\u001b[32m    104\u001b[39m json_A = add_punct(json_A, punct_array_A)\n\u001b[32m    105\u001b[39m json_B = add_punct(json_B, punct_array_B)\n\u001b[32m--> \u001b[39m\u001b[32m106\u001b[39m ft_json = \u001b[43mparse_ft_json\u001b[49m\u001b[43m(\u001b[49m\u001b[43mjson_A\u001b[49m\u001b[43m,\u001b[49m\u001b[43m \u001b[49m\u001b[43mjson_B\u001b[49m\u001b[43m)\u001b[49m\n\u001b[32m    108\u001b[39m \u001b[38;5;28;01mreturn\u001b[39;00m ft_json\n",
      "\u001b[36mCell\u001b[39m\u001b[36m \u001b[39m\u001b[32mIn[30]\u001b[39m\u001b[32m, line 52\u001b[39m, in \u001b[36mparse_ft_json\u001b[39m\u001b[34m(align_json_A, align_json_B)\u001b[39m\n\u001b[32m     49\u001b[39m \u001b[38;5;28;01mdef\u001b[39;00m\u001b[38;5;250m \u001b[39m\u001b[34mparse_ft_json\u001b[39m(align_json_A, align_json_B):\n\u001b[32m     50\u001b[39m     json = []\n\u001b[32m---> \u001b[39m\u001b[32m52\u001b[39m     segments_A = \u001b[43malign_json_A\u001b[49m\u001b[43m[\u001b[49m\u001b[33;43m\"\u001b[39;49m\u001b[33;43mtiers\u001b[39;49m\u001b[33;43m\"\u001b[39;49m\u001b[43m]\u001b[49m[\u001b[33m\"\u001b[39m\u001b[33mwords\u001b[39m\u001b[33m\"\u001b[39m][\u001b[33m\"\u001b[39m\u001b[33mentries\u001b[39m\u001b[33m\"\u001b[39m]\n\u001b[32m     53\u001b[39m     segments_B = align_json_B[\u001b[33m\"\u001b[39m\u001b[33mtiers\u001b[39m\u001b[33m\"\u001b[39m][\u001b[33m\"\u001b[39m\u001b[33mwords\u001b[39m\u001b[33m\"\u001b[39m][\u001b[33m\"\u001b[39m\u001b[33mentries\u001b[39m\u001b[33m\"\u001b[39m]\n\u001b[32m     54\u001b[39m     \u001b[38;5;28;01mfor\u001b[39;00m segment \u001b[38;5;129;01min\u001b[39;00m segments_A:\n",
      "\u001b[31mTypeError\u001b[39m: list indices must be integers or slices, not str"
     ]
    }
   ],
   "source": [
    "%%time\n",
    "\n",
    "import soundfile as sf\n",
    "import json\n",
    "\n",
    "for i in range(file_name_num+1, gen_dial_num+file_name_num+1):\n",
    "\n",
    "    # テキスト生成\n",
    "    txt_dialogue_list = gen_txt_dialogue()\n",
    "\n",
    "    # 音声合成のためのプロンプト生成\n",
    "    audio_synth_prompt = build_audio_synth_prompt(txt_dialogue_list)\n",
    "\n",
    "    # 対話テキストを音声合成\n",
    "    stereo = gen_audio_dialogue(txt_dialogue_list, audio_synth_prompt)\n",
    "    \n",
    "    wav_name = f\"{i}.wav\"\n",
    "    audio_file_path = os.path.join(audio_dir_path, wav_name)\n",
    "\n",
    "    # wavファイル出力\n",
    "    sf.write(audio_file_path, stereo, setting_sr)\n",
    "\n",
    "    # 音声アラインメント\n",
    "    json_data = alignment_audio_dialogue(txt_dialogue_list, audio_file_path, i)\n",
    "\n",
    "    json_name = f\"{i}.json\"\n",
    "    json_file_path = os.path.join(json_dir_path, json_name)\n",
    "    \n",
    "    # JSON出力\n",
    "    with open(json_file_path, 'w', encoding='utf-8') as f:\n",
    "        json.dump(json_data, f, ensure_ascii=False, indent=2)"
   ]
  },
  {
   "cell_type": "code",
   "execution_count": null,
   "id": "e9f333cf-23cb-4774-949d-4e55fe9ee1e2",
   "metadata": {},
   "outputs": [],
   "source": []
  }
 ],
 "metadata": {
  "kernelspec": {
   "display_name": "Python 3 (ipykernel)",
   "language": "python",
   "name": "python3"
  },
  "language_info": {
   "codemirror_mode": {
    "name": "ipython",
    "version": 3
   },
   "file_extension": ".py",
   "mimetype": "text/x-python",
   "name": "python",
   "nbconvert_exporter": "python",
   "pygments_lexer": "ipython3",
   "version": "3.12.0"
  }
 },
 "nbformat": 4,
 "nbformat_minor": 5
}
