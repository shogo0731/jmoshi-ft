{
 "cells": [
  {
   "cell_type": "markdown",
   "id": "a0e9c4e7-3148-4c48-a25b-1f19db53d8e3",
   "metadata": {},
   "source": [
    "1. ディレクトリ内のすべてのwavファイルを Mimi のエンコーダによって離散トークンに変換"
   ]
  },
  {
   "cell_type": "raw",
   "id": "2d894d43-4aed-48ab-8524-36897126e6f6",
   "metadata": {},
   "source": [
    "python -m tools.tokenize_audio \\\n",
    "    --audio_dir gen_dialogue/data/audio \\\n",
    "    --output_dir gen_dialogue/data/tokenized_audio"
   ]
  },
  {
   "cell_type": "markdown",
   "id": "3b16d69f-8e79-4198-93f7-55ab36ce9d32",
   "metadata": {},
   "source": [
    "2. ディレクトリ内のすべてのjsonファイルについて，そのテキストをトークンに変換"
   ]
  },
  {
   "cell_type": "raw",
   "id": "ae7debbb-73c4-44d1-a310-52765fdf0376",
   "metadata": {},
   "source": [
    "python -m tools.tokenize_text \\\n",
    "    --word_transcript gen_dialogue/data/transcription \\\n",
    "    --output_dir gen_dialogue/data/tokenized_text \\\n",
    "    --text_tokenizer_repo rinna/japanese-gpt2-medium \\\n",
    "    --text_tokenizer_name spiece.model \\\n",
    "    --text_padding_id 3 \\\n",
    "    --end_of_text_padding_id 0 \\\n",
    "    --no_whitespace_before_word"
   ]
  },
  {
   "cell_type": "markdown",
   "id": "81fb22af-c8ee-4fd3-8c15-40cdb1aa9e8a",
   "metadata": {},
   "source": [
    "3. 音声トークン列とテキストトークン列を結合し，ファインチューニング用のデータセットを作成"
   ]
  },
  {
   "cell_type": "raw",
   "id": "78b69b4a-a189-4840-9ff6-decabe8af3bc",
   "metadata": {},
   "source": [
    "python -m tools.prepare_dataset \\\n",
    "    --tokenized_text_dir gen_dialogue/data/tokenized_text \\\n",
    "    --tokenized_audio_dir gen_dialogue/data/tokenized_audio \\\n",
    "    --output_prefix processed_data/gen_dialogue/train"
   ]
  },
  {
   "cell_type": "markdown",
   "id": "dd8db5d4-acd6-4d03-8449-684a98f2d026",
   "metadata": {},
   "source": [
    "4. モデルを初期化"
   ]
  },
  {
   "cell_type": "raw",
   "id": "d1235857-3288-4363-8c1f-2a879ab2b9b7",
   "metadata": {},
   "source": [
    "python -m tools.init_moshi_for_ft \\\n",
    "    --moshi_lm_repo kyutai/moshiko-pytorch-bf16 \\\n",
    "    --save_dir init_models/moshiko-both_streams-bfloat16 \\\n",
    "    --model_dtype bfloat16 \\\n",
    "    --extend_modules_for_user_stream"
   ]
  },
  {
   "cell_type": "markdown",
   "id": "0ec35668-20f9-4c87-9233-47284ed38869",
   "metadata": {},
   "source": [
    "5. ファインチューニングを実行"
   ]
  },
  {
   "cell_type": "raw",
   "id": "b795cb98-ba57-4f61-89bc-fbec3869716c",
   "metadata": {},
   "source": [
    "nohup bash gen_dialogue/finetune_accelerate.sh &"
   ]
  }
 ],
 "metadata": {
  "kernelspec": {
   "display_name": "Python 3 (ipykernel)",
   "language": "python",
   "name": "python3"
  },
  "language_info": {
   "codemirror_mode": {
    "name": "ipython",
    "version": 3
   },
   "file_extension": ".py",
   "mimetype": "text/x-python",
   "name": "python",
   "nbconvert_exporter": "python",
   "pygments_lexer": "ipython3",
   "version": "3.12.11"
  }
 },
 "nbformat": 4,
 "nbformat_minor": 5
}
