{
 "cells": [
  {
   "cell_type": "markdown",
   "id": "fe242cf3-cce7-4a4e-9a69-685e6d2a3f06",
   "metadata": {},
   "source": [
    "# FT"
   ]
  },
  {
   "cell_type": "markdown",
   "id": "a0e9c4e7-3148-4c48-a25b-1f19db53d8e3",
   "metadata": {
    "panel-layout": {
     "height": 68.27083587646484,
     "visible": true,
     "width": 100
    }
   },
   "source": [
    "1. ディレクトリ内のすべてのwavファイルを Mimi のエンコーダによって離散トークンに変換"
   ]
  },
  {
   "cell_type": "raw",
   "id": "2d894d43-4aed-48ab-8524-36897126e6f6",
   "metadata": {},
   "source": [
    "python -m tools.tokenize_audio \\\n",
    "    --audio_dir gen_dialogue/data/mfa/audio \\\n",
    "    --output_dir gen_dialogue/data/mfa/tokenized_audio"
   ]
  },
  {
   "cell_type": "markdown",
   "id": "3b16d69f-8e79-4198-93f7-55ab36ce9d32",
   "metadata": {
    "panel-layout": {
     "height": 68.27083587646484,
     "visible": true,
     "width": 100
    }
   },
   "source": [
    "2. ディレクトリ内のすべてのjsonファイルについて，テキストをトークンに変換"
   ]
  },
  {
   "cell_type": "raw",
   "id": "ae7debbb-73c4-44d1-a310-52765fdf0376",
   "metadata": {},
   "source": [
    "python -m tools.tokenize_text \\\n",
    "    --word_transcript gen_dialogue/data/mfa/transcription \\\n",
    "    --output_dir gen_dialogue/data/mfa/tokenized_text \\\n",
    "    --text_tokenizer_repo rinna/japanese-gpt2-medium \\\n",
    "    --text_tokenizer_name spiece.model \\\n",
    "    --text_padding_id 3 \\\n",
    "    --end_of_text_padding_id 0 \\\n",
    "    --no_whitespace_before_word"
   ]
  },
  {
   "cell_type": "markdown",
   "id": "81fb22af-c8ee-4fd3-8c15-40cdb1aa9e8a",
   "metadata": {
    "panel-layout": {
     "height": 68.27083587646484,
     "visible": true,
     "width": 100
    }
   },
   "source": [
    "3. 音声トークン列とテキストトークン列を結合し，ファインチューニング用のデータセットを作成"
   ]
  },
  {
   "cell_type": "raw",
   "id": "78b69b4a-a189-4840-9ff6-decabe8af3bc",
   "metadata": {},
   "source": [
    "python -m tools.prepare_dataset \\\n",
    "    --tokenized_text_dir gen_dialogue/data/mfa/tokenized_text \\\n",
    "    --tokenized_audio_dir gen_dialogue/data/mfa/tokenized_audio \\\n",
    "    --output_prefix processed_data/mfa/train"
   ]
  },
  {
   "cell_type": "markdown",
   "id": "b496c10d-f9f0-47fa-87b3-833bf22880f6",
   "metadata": {},
   "source": [
    "4. モデルを，ファインチューニング用に初期化・編集"
   ]
  },
  {
   "cell_type": "raw",
   "id": "fdc8b53f-b3b5-447b-9236-48dab70ca05f",
   "metadata": {},
   "source": [
    "python -m tools.init_moshi_for_ft \\\n",
    "    --moshi_lm_repo nu-dialogue/j-moshi-ext \\\n",
    "    --save_dir init_models/j-moshi-ext-float32 \\\n",
    "    --model_dtype float32 \\\n",
    "    --extend_modules_for_user_stream"
   ]
  },
  {
   "cell_type": "markdown",
   "id": "0ec35668-20f9-4c87-9233-47284ed38869",
   "metadata": {
    "panel-layout": {
     "height": 51.13541793823242,
     "visible": true,
     "width": 100
    }
   },
   "source": [
    "5. ファインチューニングを実行"
   ]
  },
  {
   "cell_type": "raw",
   "id": "b795cb98-ba57-4f61-89bc-fbec3869716c",
   "metadata": {},
   "source": [
    "bash gen_dialogue/finetune_accelerate.sh"
   ]
  },
  {
   "cell_type": "markdown",
   "id": "f1c1e184-0da5-438a-a505-d50a15cc4fcf",
   "metadata": {},
   "source": [
    "# モデルと話す"
   ]
  },
  {
   "cell_type": "markdown",
   "id": "23ac9769-0909-41b2-8af3-8c26c6f43fa3",
   "metadata": {},
   "source": [
    "1. safetensors 形式に変換"
   ]
  },
  {
   "cell_type": "raw",
   "id": "64c4f9fa-99c3-4f58-94de-905f1219f262",
   "metadata": {},
   "source": [
    "python -m tools.zero_to_fp32 \\\n",
    "    output/j-moshi-ext-finetuned/step_300 \\\n",
    "    output/j-moshi-ext-finetuned/step_300_fp32 \\\n",
    "    --moshi_lm_kwargs_path init_models/j-moshi-ext-float32/moshi_lm_kwargs.json"
   ]
  },
  {
   "cell_type": "markdown",
   "id": "8a123e17-e96d-4735-954c-bd56f55eb6ad",
   "metadata": {},
   "source": [
    "2. モデルを元の形式に戻す"
   ]
  },
  {
   "cell_type": "raw",
   "id": "356be8b3-57e6-4ebe-90a2-2de40cc0a138",
   "metadata": {},
   "source": [
    "python -m tools.clean_moshi \\\n",
    "    --moshi_ft_dir output/j-moshi-ext-finetuned/step_300_fp32 \\\n",
    "    --save_dir output/j-moshi-ext-finetuned/step_300_cleaned \\\n",
    "    --model_dtype float32 \\\n",
    "    --remove_modules_for_user_stream"
   ]
  },
  {
   "cell_type": "markdown",
   "id": "64c1e920-7a4f-47ce-bb73-0ed9e970896a",
   "metadata": {},
   "source": [
    "3. サーバーを起動"
   ]
  },
  {
   "cell_type": "raw",
   "id": "19bda6fc-e0e3-4ac0-a524-cbd0199a433a",
   "metadata": {},
   "source": [
    "python -m moshi.server \\\n",
    "    --hf-repo nu-dialogue/j-moshi \\\n",
    "    --moshi-weight output/j-moshi-ext-finetuned/step_1000_cleaned/model.safetensors"
   ]
  },
  {
   "cell_type": "code",
   "execution_count": null,
   "id": "aba80d44-9e78-4301-b838-9238eb38120c",
   "metadata": {},
   "outputs": [],
   "source": []
  }
 ],
 "metadata": {
  "kernelspec": {
   "display_name": "Python 3 (ipykernel)",
   "language": "python",
   "name": "python3"
  },
  "language_info": {
   "codemirror_mode": {
    "name": "ipython",
    "version": 3
   },
   "file_extension": ".py",
   "mimetype": "text/x-python",
   "name": "python",
   "nbconvert_exporter": "python",
   "pygments_lexer": "ipython3",
   "version": "3.12.12"
  },
  "panel-cell-order": [
   "a0e9c4e7-3148-4c48-a25b-1f19db53d8e3",
   "3b16d69f-8e79-4198-93f7-55ab36ce9d32",
   "81fb22af-c8ee-4fd3-8c15-40cdb1aa9e8a",
   "dd8db5d4-acd6-4d03-8449-684a98f2d026",
   "0ec35668-20f9-4c87-9233-47284ed38869"
  ]
 },
 "nbformat": 4,
 "nbformat_minor": 5
}
